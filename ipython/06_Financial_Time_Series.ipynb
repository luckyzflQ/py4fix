{
 "metadata": {
  "name": "",
  "signature": "sha256:940fc2a1f19cf5931fec4ef0a154e5068459f3a9e9a09a4e2449bb41686e5170"
 },
 "nbformat": 3,
 "nbformat_minor": 0,
 "worksheets": [
  {
   "cells": [
    {
     "cell_type": "markdown",
     "metadata": {},
     "source": [
      "<img src=\"http://hilpisch.com/tpq_logo.png\" alt=\"The Python Quants\" width=\"35%\" align=\"right\" border=\"0\"><br>"
     ]
    },
    {
     "cell_type": "heading",
     "level": 1,
     "metadata": {},
     "source": [
      "Python for Finance"
     ]
    },
    {
     "cell_type": "markdown",
     "metadata": {},
     "source": [
      "**Analyze Big Financial Data**\n",
      "\n",
      "O'Reilly (2014)\n",
      "\n",
      "Yves Hilpisch"
     ]
    },
    {
     "cell_type": "markdown",
     "metadata": {},
     "source": [
      "<img style=\"border:1px solid grey;\" src=\"http://hilpisch.com/python_for_finance.png\" alt=\"Python for Finance\" width=\"30%\" align=\"left\" border=\"0\">"
     ]
    },
    {
     "cell_type": "markdown",
     "metadata": {},
     "source": [
      "**Buy the book ** |\n",
      "<a href='http://shop.oreilly.com/product/0636920032441.do' target='_blank'>O'Reilly</a> |\n",
      "<a href='http://www.amazon.com/Yves-Hilpisch/e/B00JCYHHJM' target='_blank'>Amazon</a>\n",
      "\n",
      "**All book codes & IPYNBs** |\n",
      "<a href=\"http://oreilly.quant-platform.com\">http://oreilly.quant-platform.com</a>\n",
      "\n",
      "**The Python Quants GmbH** | <a href='http://pythonquants.com' target='_blank'>www.pythonquants.com</a>\n",
      "\n",
      "**Contact us** | <a href='mailto:analytics@pythonquants.com'>analytics@pythonquants.com</a>"
     ]
    },
    {
     "cell_type": "heading",
     "level": 1,
     "metadata": {},
     "source": [
      "Financial Time Series"
     ]
    },
    {
     "cell_type": "code",
     "collapsed": false,
     "input": [
      "import warnings\n",
      "warnings.simplefilter('ignore')"
     ],
     "language": "python",
     "metadata": {},
     "outputs": [],
     "prompt_number": 1
    },
    {
     "cell_type": "heading",
     "level": 2,
     "metadata": {},
     "source": [
      "pandas Basics"
     ]
    },
    {
     "cell_type": "code",
     "collapsed": false,
     "input": [
      "import numpy as np\n",
      "import pandas as pd"
     ],
     "language": "python",
     "metadata": {
      "uuid": "eda2a742-134d-4d47-8b30-557b846b9bb3"
     },
     "outputs": [],
     "prompt_number": 2
    },
    {
     "cell_type": "heading",
     "level": 3,
     "metadata": {},
     "source": [
      "First Steps with DataFrame Class"
     ]
    },
    {
     "cell_type": "code",
     "collapsed": false,
     "input": [
      "df = pd.DataFrame([10, 20, 30, 40], columns=['numbers'],\n",
      "                  index=['a', 'b', 'c', 'd'])\n",
      "df"
     ],
     "language": "python",
     "metadata": {
      "uuid": "f3be2d89-829a-49b2-96fc-07c475db1e3f"
     },
     "outputs": [
      {
       "html": [
        "<div style=\"max-width:1500px;overflow:auto;\">\n",
        "<table border=\"1\" class=\"dataframe\">\n",
        "  <thead>\n",
        "    <tr style=\"text-align: right;\">\n",
        "      <th></th>\n",
        "      <th>numbers</th>\n",
        "    </tr>\n",
        "  </thead>\n",
        "  <tbody>\n",
        "    <tr>\n",
        "      <th>a</th>\n",
        "      <td>10</td>\n",
        "    </tr>\n",
        "    <tr>\n",
        "      <th>b</th>\n",
        "      <td>20</td>\n",
        "    </tr>\n",
        "    <tr>\n",
        "      <th>c</th>\n",
        "      <td>30</td>\n",
        "    </tr>\n",
        "    <tr>\n",
        "      <th>d</th>\n",
        "      <td>40</td>\n",
        "    </tr>\n",
        "  </tbody>\n",
        "</table>\n",
        "</div>"
       ],
       "metadata": {},
       "output_type": "pyout",
       "prompt_number": 3,
       "text": [
        "   numbers\n",
        "a       10\n",
        "b       20\n",
        "c       30\n",
        "d       40"
       ]
      }
     ],
     "prompt_number": 3
    },
    {
     "cell_type": "code",
     "collapsed": false,
     "input": [
      "df.index  # the index values"
     ],
     "language": "python",
     "metadata": {
      "uuid": "47b70a7b-710f-4c40-9a70-b09db7af1a12"
     },
     "outputs": [
      {
       "metadata": {},
       "output_type": "pyout",
       "prompt_number": 4,
       "text": [
        "Index([u'a', u'b', u'c', u'd'], dtype='object')"
       ]
      }
     ],
     "prompt_number": 4
    },
    {
     "cell_type": "code",
     "collapsed": false,
     "input": [
      "df.columns  # the column names"
     ],
     "language": "python",
     "metadata": {
      "uuid": "a36c6695-520d-4df1-a6fa-5f8362af37a3"
     },
     "outputs": [
      {
       "metadata": {},
       "output_type": "pyout",
       "prompt_number": 5,
       "text": [
        "Index([u'numbers'], dtype='object')"
       ]
      }
     ],
     "prompt_number": 5
    },
    {
     "cell_type": "code",
     "collapsed": false,
     "input": [
      "df.ix['c']  # selection via index"
     ],
     "language": "python",
     "metadata": {
      "uuid": "c93aed37-21de-429d-86ed-9849e4c3e23c"
     },
     "outputs": [
      {
       "metadata": {},
       "output_type": "pyout",
       "prompt_number": 6,
       "text": [
        "numbers    30\n",
        "Name: c, dtype: int64"
       ]
      }
     ],
     "prompt_number": 6
    },
    {
     "cell_type": "code",
     "collapsed": false,
     "input": [
      "df.ix[['a', 'd']]  # selection of multiple indices"
     ],
     "language": "python",
     "metadata": {
      "uuid": "8c7c2f69-3673-40d9-a568-0471c629810d"
     },
     "outputs": [
      {
       "html": [
        "<div style=\"max-width:1500px;overflow:auto;\">\n",
        "<table border=\"1\" class=\"dataframe\">\n",
        "  <thead>\n",
        "    <tr style=\"text-align: right;\">\n",
        "      <th></th>\n",
        "      <th>numbers</th>\n",
        "    </tr>\n",
        "  </thead>\n",
        "  <tbody>\n",
        "    <tr>\n",
        "      <th>a</th>\n",
        "      <td>10</td>\n",
        "    </tr>\n",
        "    <tr>\n",
        "      <th>d</th>\n",
        "      <td>40</td>\n",
        "    </tr>\n",
        "  </tbody>\n",
        "</table>\n",
        "</div>"
       ],
       "metadata": {},
       "output_type": "pyout",
       "prompt_number": 7,
       "text": [
        "   numbers\n",
        "a       10\n",
        "d       40"
       ]
      }
     ],
     "prompt_number": 7
    },
    {
     "cell_type": "code",
     "collapsed": false,
     "input": [
      "df.ix[df.index[1:3]]  # selection via Index object"
     ],
     "language": "python",
     "metadata": {
      "uuid": "c3ce0cc3-26e8-4256-ab8c-9a2d4b181633"
     },
     "outputs": [
      {
       "html": [
        "<div style=\"max-width:1500px;overflow:auto;\">\n",
        "<table border=\"1\" class=\"dataframe\">\n",
        "  <thead>\n",
        "    <tr style=\"text-align: right;\">\n",
        "      <th></th>\n",
        "      <th>numbers</th>\n",
        "    </tr>\n",
        "  </thead>\n",
        "  <tbody>\n",
        "    <tr>\n",
        "      <th>b</th>\n",
        "      <td>20</td>\n",
        "    </tr>\n",
        "    <tr>\n",
        "      <th>c</th>\n",
        "      <td>30</td>\n",
        "    </tr>\n",
        "  </tbody>\n",
        "</table>\n",
        "</div>"
       ],
       "metadata": {},
       "output_type": "pyout",
       "prompt_number": 8,
       "text": [
        "   numbers\n",
        "b       20\n",
        "c       30"
       ]
      }
     ],
     "prompt_number": 8
    },
    {
     "cell_type": "code",
     "collapsed": false,
     "input": [
      "df.sum()  # sum per column"
     ],
     "language": "python",
     "metadata": {
      "uuid": "94b1d846-63df-49f4-8a7f-8fed03e5f4fa"
     },
     "outputs": [
      {
       "metadata": {},
       "output_type": "pyout",
       "prompt_number": 9,
       "text": [
        "numbers    100\n",
        "dtype: int64"
       ]
      }
     ],
     "prompt_number": 9
    },
    {
     "cell_type": "code",
     "collapsed": false,
     "input": [
      "df.apply(lambda x: x ** 2)  # square of every element"
     ],
     "language": "python",
     "metadata": {
      "uuid": "4e73eb4f-352d-4527-b0c5-4f3a6e7eb354"
     },
     "outputs": [
      {
       "html": [
        "<div style=\"max-width:1500px;overflow:auto;\">\n",
        "<table border=\"1\" class=\"dataframe\">\n",
        "  <thead>\n",
        "    <tr style=\"text-align: right;\">\n",
        "      <th></th>\n",
        "      <th>numbers</th>\n",
        "    </tr>\n",
        "  </thead>\n",
        "  <tbody>\n",
        "    <tr>\n",
        "      <th>a</th>\n",
        "      <td>100</td>\n",
        "    </tr>\n",
        "    <tr>\n",
        "      <th>b</th>\n",
        "      <td>400</td>\n",
        "    </tr>\n",
        "    <tr>\n",
        "      <th>c</th>\n",
        "      <td>900</td>\n",
        "    </tr>\n",
        "    <tr>\n",
        "      <th>d</th>\n",
        "      <td>1600</td>\n",
        "    </tr>\n",
        "  </tbody>\n",
        "</table>\n",
        "</div>"
       ],
       "metadata": {},
       "output_type": "pyout",
       "prompt_number": 10,
       "text": [
        "   numbers\n",
        "a      100\n",
        "b      400\n",
        "c      900\n",
        "d     1600"
       ]
      }
     ],
     "prompt_number": 10
    },
    {
     "cell_type": "code",
     "collapsed": false,
     "input": [
      "df ** 2  # again square, this time NumPy-like"
     ],
     "language": "python",
     "metadata": {
      "uuid": "75206a83-0154-4be2-88d0-7a82a190fda1"
     },
     "outputs": [
      {
       "html": [
        "<div style=\"max-width:1500px;overflow:auto;\">\n",
        "<table border=\"1\" class=\"dataframe\">\n",
        "  <thead>\n",
        "    <tr style=\"text-align: right;\">\n",
        "      <th></th>\n",
        "      <th>numbers</th>\n",
        "    </tr>\n",
        "  </thead>\n",
        "  <tbody>\n",
        "    <tr>\n",
        "      <th>a</th>\n",
        "      <td>100</td>\n",
        "    </tr>\n",
        "    <tr>\n",
        "      <th>b</th>\n",
        "      <td>400</td>\n",
        "    </tr>\n",
        "    <tr>\n",
        "      <th>c</th>\n",
        "      <td>900</td>\n",
        "    </tr>\n",
        "    <tr>\n",
        "      <th>d</th>\n",
        "      <td>1600</td>\n",
        "    </tr>\n",
        "  </tbody>\n",
        "</table>\n",
        "</div>"
       ],
       "metadata": {},
       "output_type": "pyout",
       "prompt_number": 11,
       "text": [
        "   numbers\n",
        "a      100\n",
        "b      400\n",
        "c      900\n",
        "d     1600"
       ]
      }
     ],
     "prompt_number": 11
    },
    {
     "cell_type": "code",
     "collapsed": false,
     "input": [
      "df['floats'] = (1.5, 2.5, 3.5, 4.5)\n",
      "  # new column is generated\n",
      "df"
     ],
     "language": "python",
     "metadata": {
      "uuid": "49a2633a-b3c0-4d00-a227-e0ff4a8cf81d"
     },
     "outputs": [
      {
       "html": [
        "<div style=\"max-width:1500px;overflow:auto;\">\n",
        "<table border=\"1\" class=\"dataframe\">\n",
        "  <thead>\n",
        "    <tr style=\"text-align: right;\">\n",
        "      <th></th>\n",
        "      <th>numbers</th>\n",
        "      <th>floats</th>\n",
        "    </tr>\n",
        "  </thead>\n",
        "  <tbody>\n",
        "    <tr>\n",
        "      <th>a</th>\n",
        "      <td>10</td>\n",
        "      <td>1.5</td>\n",
        "    </tr>\n",
        "    <tr>\n",
        "      <th>b</th>\n",
        "      <td>20</td>\n",
        "      <td>2.5</td>\n",
        "    </tr>\n",
        "    <tr>\n",
        "      <th>c</th>\n",
        "      <td>30</td>\n",
        "      <td>3.5</td>\n",
        "    </tr>\n",
        "    <tr>\n",
        "      <th>d</th>\n",
        "      <td>40</td>\n",
        "      <td>4.5</td>\n",
        "    </tr>\n",
        "  </tbody>\n",
        "</table>\n",
        "</div>"
       ],
       "metadata": {},
       "output_type": "pyout",
       "prompt_number": 12,
       "text": [
        "   numbers  floats\n",
        "a       10     1.5\n",
        "b       20     2.5\n",
        "c       30     3.5\n",
        "d       40     4.5"
       ]
      }
     ],
     "prompt_number": 12
    },
    {
     "cell_type": "code",
     "collapsed": false,
     "input": [
      "df['floats']  # selection of column"
     ],
     "language": "python",
     "metadata": {
      "uuid": "c49b9aea-417a-4c2b-8e27-0e8771a77c87"
     },
     "outputs": [
      {
       "metadata": {},
       "output_type": "pyout",
       "prompt_number": 13,
       "text": [
        "a    1.5\n",
        "b    2.5\n",
        "c    3.5\n",
        "d    4.5\n",
        "Name: floats, dtype: float64"
       ]
      }
     ],
     "prompt_number": 13
    },
    {
     "cell_type": "code",
     "collapsed": false,
     "input": [
      "df['names'] = pd.DataFrame(['Yves', 'Guido', 'Felix', 'Francesc'],\n",
      "                           index=['d', 'a', 'b', 'c'])\n",
      "df"
     ],
     "language": "python",
     "metadata": {
      "uuid": "aa892c41-6637-45ed-876b-6a70285e4c0b"
     },
     "outputs": [
      {
       "html": [
        "<div style=\"max-width:1500px;overflow:auto;\">\n",
        "<table border=\"1\" class=\"dataframe\">\n",
        "  <thead>\n",
        "    <tr style=\"text-align: right;\">\n",
        "      <th></th>\n",
        "      <th>numbers</th>\n",
        "      <th>floats</th>\n",
        "      <th>names</th>\n",
        "    </tr>\n",
        "  </thead>\n",
        "  <tbody>\n",
        "    <tr>\n",
        "      <th>a</th>\n",
        "      <td>10</td>\n",
        "      <td>1.5</td>\n",
        "      <td>Guido</td>\n",
        "    </tr>\n",
        "    <tr>\n",
        "      <th>b</th>\n",
        "      <td>20</td>\n",
        "      <td>2.5</td>\n",
        "      <td>Felix</td>\n",
        "    </tr>\n",
        "    <tr>\n",
        "      <th>c</th>\n",
        "      <td>30</td>\n",
        "      <td>3.5</td>\n",
        "      <td>Francesc</td>\n",
        "    </tr>\n",
        "    <tr>\n",
        "      <th>d</th>\n",
        "      <td>40</td>\n",
        "      <td>4.5</td>\n",
        "      <td>Yves</td>\n",
        "    </tr>\n",
        "  </tbody>\n",
        "</table>\n",
        "</div>"
       ],
       "metadata": {},
       "output_type": "pyout",
       "prompt_number": 14,
       "text": [
        "   numbers  floats     names\n",
        "a       10     1.5     Guido\n",
        "b       20     2.5     Felix\n",
        "c       30     3.5  Francesc\n",
        "d       40     4.5      Yves"
       ]
      }
     ],
     "prompt_number": 14
    },
    {
     "cell_type": "code",
     "collapsed": false,
     "input": [
      "df.append({'numbers': 100, 'floats': 5.75, 'names': 'Henry'},\n",
      "               ignore_index=True)\n",
      "  # temporary object; df not changed"
     ],
     "language": "python",
     "metadata": {
      "uuid": "584ac18c-161f-4c7b-8ff1-1cd406fb8437"
     },
     "outputs": [
      {
       "html": [
        "<div style=\"max-width:1500px;overflow:auto;\">\n",
        "<table border=\"1\" class=\"dataframe\">\n",
        "  <thead>\n",
        "    <tr style=\"text-align: right;\">\n",
        "      <th></th>\n",
        "      <th>numbers</th>\n",
        "      <th>floats</th>\n",
        "      <th>names</th>\n",
        "    </tr>\n",
        "  </thead>\n",
        "  <tbody>\n",
        "    <tr>\n",
        "      <th>0</th>\n",
        "      <td>10</td>\n",
        "      <td>1.50</td>\n",
        "      <td>Guido</td>\n",
        "    </tr>\n",
        "    <tr>\n",
        "      <th>1</th>\n",
        "      <td>20</td>\n",
        "      <td>2.50</td>\n",
        "      <td>Felix</td>\n",
        "    </tr>\n",
        "    <tr>\n",
        "      <th>2</th>\n",
        "      <td>30</td>\n",
        "      <td>3.50</td>\n",
        "      <td>Francesc</td>\n",
        "    </tr>\n",
        "    <tr>\n",
        "      <th>3</th>\n",
        "      <td>40</td>\n",
        "      <td>4.50</td>\n",
        "      <td>Yves</td>\n",
        "    </tr>\n",
        "    <tr>\n",
        "      <th>4</th>\n",
        "      <td>100</td>\n",
        "      <td>5.75</td>\n",
        "      <td>Henry</td>\n",
        "    </tr>\n",
        "  </tbody>\n",
        "</table>\n",
        "</div>"
       ],
       "metadata": {},
       "output_type": "pyout",
       "prompt_number": 15,
       "text": [
        "   numbers  floats     names\n",
        "0       10    1.50     Guido\n",
        "1       20    2.50     Felix\n",
        "2       30    3.50  Francesc\n",
        "3       40    4.50      Yves\n",
        "4      100    5.75     Henry"
       ]
      }
     ],
     "prompt_number": 15
    },
    {
     "cell_type": "code",
     "collapsed": false,
     "input": [
      "df = df.append(pd.DataFrame({'numbers': 100, 'floats': 5.75,\n",
      "                             'names': 'Henry'}, index=['z',]))\n",
      "df"
     ],
     "language": "python",
     "metadata": {
      "uuid": "9068cd04-c6ff-4d0c-bd52-cf04cd89a0e9"
     },
     "outputs": [
      {
       "html": [
        "<div style=\"max-width:1500px;overflow:auto;\">\n",
        "<table border=\"1\" class=\"dataframe\">\n",
        "  <thead>\n",
        "    <tr style=\"text-align: right;\">\n",
        "      <th></th>\n",
        "      <th>floats</th>\n",
        "      <th>names</th>\n",
        "      <th>numbers</th>\n",
        "    </tr>\n",
        "  </thead>\n",
        "  <tbody>\n",
        "    <tr>\n",
        "      <th>a</th>\n",
        "      <td>1.50</td>\n",
        "      <td>Guido</td>\n",
        "      <td>10</td>\n",
        "    </tr>\n",
        "    <tr>\n",
        "      <th>b</th>\n",
        "      <td>2.50</td>\n",
        "      <td>Felix</td>\n",
        "      <td>20</td>\n",
        "    </tr>\n",
        "    <tr>\n",
        "      <th>c</th>\n",
        "      <td>3.50</td>\n",
        "      <td>Francesc</td>\n",
        "      <td>30</td>\n",
        "    </tr>\n",
        "    <tr>\n",
        "      <th>d</th>\n",
        "      <td>4.50</td>\n",
        "      <td>Yves</td>\n",
        "      <td>40</td>\n",
        "    </tr>\n",
        "    <tr>\n",
        "      <th>z</th>\n",
        "      <td>5.75</td>\n",
        "      <td>Henry</td>\n",
        "      <td>100</td>\n",
        "    </tr>\n",
        "  </tbody>\n",
        "</table>\n",
        "</div>"
       ],
       "metadata": {},
       "output_type": "pyout",
       "prompt_number": 16,
       "text": [
        "   floats     names  numbers\n",
        "a    1.50     Guido       10\n",
        "b    2.50     Felix       20\n",
        "c    3.50  Francesc       30\n",
        "d    4.50      Yves       40\n",
        "z    5.75     Henry      100"
       ]
      }
     ],
     "prompt_number": 16
    },
    {
     "cell_type": "code",
     "collapsed": false,
     "input": [
      "df.join(pd.DataFrame([1, 4, 9, 16, 25],\n",
      "            index=['a', 'b', 'c', 'd', 'y'],\n",
      "            columns=['squares',]))\n",
      "  # temporary object"
     ],
     "language": "python",
     "metadata": {
      "uuid": "0d526ac2-8691-4a59-83c5-712c800f0464"
     },
     "outputs": [
      {
       "html": [
        "<div style=\"max-width:1500px;overflow:auto;\">\n",
        "<table border=\"1\" class=\"dataframe\">\n",
        "  <thead>\n",
        "    <tr style=\"text-align: right;\">\n",
        "      <th></th>\n",
        "      <th>floats</th>\n",
        "      <th>names</th>\n",
        "      <th>numbers</th>\n",
        "      <th>squares</th>\n",
        "    </tr>\n",
        "  </thead>\n",
        "  <tbody>\n",
        "    <tr>\n",
        "      <th>a</th>\n",
        "      <td>1.50</td>\n",
        "      <td>Guido</td>\n",
        "      <td>10</td>\n",
        "      <td>1</td>\n",
        "    </tr>\n",
        "    <tr>\n",
        "      <th>b</th>\n",
        "      <td>2.50</td>\n",
        "      <td>Felix</td>\n",
        "      <td>20</td>\n",
        "      <td>4</td>\n",
        "    </tr>\n",
        "    <tr>\n",
        "      <th>c</th>\n",
        "      <td>3.50</td>\n",
        "      <td>Francesc</td>\n",
        "      <td>30</td>\n",
        "      <td>9</td>\n",
        "    </tr>\n",
        "    <tr>\n",
        "      <th>d</th>\n",
        "      <td>4.50</td>\n",
        "      <td>Yves</td>\n",
        "      <td>40</td>\n",
        "      <td>16</td>\n",
        "    </tr>\n",
        "    <tr>\n",
        "      <th>z</th>\n",
        "      <td>5.75</td>\n",
        "      <td>Henry</td>\n",
        "      <td>100</td>\n",
        "      <td>NaN</td>\n",
        "    </tr>\n",
        "  </tbody>\n",
        "</table>\n",
        "</div>"
       ],
       "metadata": {},
       "output_type": "pyout",
       "prompt_number": 17,
       "text": [
        "   floats     names  numbers  squares\n",
        "a    1.50     Guido       10        1\n",
        "b    2.50     Felix       20        4\n",
        "c    3.50  Francesc       30        9\n",
        "d    4.50      Yves       40       16\n",
        "z    5.75     Henry      100      NaN"
       ]
      }
     ],
     "prompt_number": 17
    },
    {
     "cell_type": "code",
     "collapsed": false,
     "input": [
      "df = df.join(pd.DataFrame([1, 4, 9, 16, 25],\n",
      "                    index=['a', 'b', 'c', 'd', 'y'],\n",
      "                    columns=['squares',]),\n",
      "                    how='outer')\n",
      "df"
     ],
     "language": "python",
     "metadata": {
      "uuid": "6558c7ff-f24e-4dd0-b57e-a30196bad1f4"
     },
     "outputs": [
      {
       "html": [
        "<div style=\"max-width:1500px;overflow:auto;\">\n",
        "<table border=\"1\" class=\"dataframe\">\n",
        "  <thead>\n",
        "    <tr style=\"text-align: right;\">\n",
        "      <th></th>\n",
        "      <th>floats</th>\n",
        "      <th>names</th>\n",
        "      <th>numbers</th>\n",
        "      <th>squares</th>\n",
        "    </tr>\n",
        "  </thead>\n",
        "  <tbody>\n",
        "    <tr>\n",
        "      <th>a</th>\n",
        "      <td>1.50</td>\n",
        "      <td>Guido</td>\n",
        "      <td>10</td>\n",
        "      <td>1</td>\n",
        "    </tr>\n",
        "    <tr>\n",
        "      <th>b</th>\n",
        "      <td>2.50</td>\n",
        "      <td>Felix</td>\n",
        "      <td>20</td>\n",
        "      <td>4</td>\n",
        "    </tr>\n",
        "    <tr>\n",
        "      <th>c</th>\n",
        "      <td>3.50</td>\n",
        "      <td>Francesc</td>\n",
        "      <td>30</td>\n",
        "      <td>9</td>\n",
        "    </tr>\n",
        "    <tr>\n",
        "      <th>d</th>\n",
        "      <td>4.50</td>\n",
        "      <td>Yves</td>\n",
        "      <td>40</td>\n",
        "      <td>16</td>\n",
        "    </tr>\n",
        "    <tr>\n",
        "      <th>y</th>\n",
        "      <td>NaN</td>\n",
        "      <td>NaN</td>\n",
        "      <td>NaN</td>\n",
        "      <td>25</td>\n",
        "    </tr>\n",
        "    <tr>\n",
        "      <th>z</th>\n",
        "      <td>5.75</td>\n",
        "      <td>Henry</td>\n",
        "      <td>100</td>\n",
        "      <td>NaN</td>\n",
        "    </tr>\n",
        "  </tbody>\n",
        "</table>\n",
        "</div>"
       ],
       "metadata": {},
       "output_type": "pyout",
       "prompt_number": 18,
       "text": [
        "   floats     names  numbers  squares\n",
        "a    1.50     Guido       10        1\n",
        "b    2.50     Felix       20        4\n",
        "c    3.50  Francesc       30        9\n",
        "d    4.50      Yves       40       16\n",
        "y     NaN       NaN      NaN       25\n",
        "z    5.75     Henry      100      NaN"
       ]
      }
     ],
     "prompt_number": 18
    },
    {
     "cell_type": "code",
     "collapsed": false,
     "input": [
      "df[['numbers', 'squares']].mean()\n",
      "  # column-wise mean"
     ],
     "language": "python",
     "metadata": {
      "uuid": "3e863c7f-7875-4911-997b-6e48123dc1e5"
     },
     "outputs": [
      {
       "metadata": {},
       "output_type": "pyout",
       "prompt_number": 19,
       "text": [
        "numbers    40\n",
        "squares    11\n",
        "dtype: float64"
       ]
      }
     ],
     "prompt_number": 19
    },
    {
     "cell_type": "code",
     "collapsed": false,
     "input": [
      "df[['numbers', 'squares']].std()\n",
      "  # column-wise standard deviation"
     ],
     "language": "python",
     "metadata": {
      "uuid": "c52173a0-485d-4eb2-b6b4-407d1ff2c30e"
     },
     "outputs": [
      {
       "metadata": {},
       "output_type": "pyout",
       "prompt_number": 20,
       "text": [
        "numbers    35.355339\n",
        "squares     9.669540\n",
        "dtype: float64"
       ]
      }
     ],
     "prompt_number": 20
    },
    {
     "cell_type": "heading",
     "level": 3,
     "metadata": {},
     "source": [
      "Second Steps with DataFrame Class"
     ]
    },
    {
     "cell_type": "code",
     "collapsed": false,
     "input": [
      "a = np.random.standard_normal((9, 4))\n",
      "a.round(6)"
     ],
     "language": "python",
     "metadata": {
      "uuid": "d6f56a00-91e6-4221-a1ec-6093f416d1be"
     },
     "outputs": [
      {
       "metadata": {},
       "output_type": "pyout",
       "prompt_number": 21,
       "text": [
        "array([[ 0.323735, -0.615816,  0.344946, -0.694836],\n",
        "       [ 0.769114,  0.560517,  1.131815, -0.777021],\n",
        "       [-0.504783,  0.233836,  0.117229,  0.435144],\n",
        "       [ 0.605869,  0.478992,  0.601303, -0.563185],\n",
        "       [ 0.444934, -1.921102, -0.074946,  0.275721],\n",
        "       [-1.048369,  1.517331,  0.110185, -0.93715 ],\n",
        "       [ 0.203295, -0.59483 ,  1.431675,  0.574445],\n",
        "       [ 0.262244,  0.328383, -0.599356, -1.73048 ],\n",
        "       [ 0.157448,  0.29171 ,  1.401287,  0.442187]])"
       ]
      }
     ],
     "prompt_number": 21
    },
    {
     "cell_type": "code",
     "collapsed": false,
     "input": [
      "df = pd.DataFrame(a)\n",
      "df"
     ],
     "language": "python",
     "metadata": {
      "uuid": "450bd14d-7668-4f3f-a863-966f13562818"
     },
     "outputs": [
      {
       "html": [
        "<div style=\"max-width:1500px;overflow:auto;\">\n",
        "<table border=\"1\" class=\"dataframe\">\n",
        "  <thead>\n",
        "    <tr style=\"text-align: right;\">\n",
        "      <th></th>\n",
        "      <th>0</th>\n",
        "      <th>1</th>\n",
        "      <th>2</th>\n",
        "      <th>3</th>\n",
        "    </tr>\n",
        "  </thead>\n",
        "  <tbody>\n",
        "    <tr>\n",
        "      <th>0</th>\n",
        "      <td>0.323735</td>\n",
        "      <td>-0.615816</td>\n",
        "      <td>0.344946</td>\n",
        "      <td>-0.694836</td>\n",
        "    </tr>\n",
        "    <tr>\n",
        "      <th>1</th>\n",
        "      <td>0.769114</td>\n",
        "      <td>0.560517</td>\n",
        "      <td>1.131815</td>\n",
        "      <td>-0.777021</td>\n",
        "    </tr>\n",
        "    <tr>\n",
        "      <th>2</th>\n",
        "      <td>-0.504783</td>\n",
        "      <td>0.233836</td>\n",
        "      <td>0.117229</td>\n",
        "      <td>0.435144</td>\n",
        "    </tr>\n",
        "    <tr>\n",
        "      <th>3</th>\n",
        "      <td>0.605869</td>\n",
        "      <td>0.478992</td>\n",
        "      <td>0.601303</td>\n",
        "      <td>-0.563185</td>\n",
        "    </tr>\n",
        "    <tr>\n",
        "      <th>4</th>\n",
        "      <td>0.444934</td>\n",
        "      <td>-1.921102</td>\n",
        "      <td>-0.074946</td>\n",
        "      <td>0.275721</td>\n",
        "    </tr>\n",
        "    <tr>\n",
        "      <th>5</th>\n",
        "      <td>-1.048369</td>\n",
        "      <td>1.517331</td>\n",
        "      <td>0.110185</td>\n",
        "      <td>-0.937150</td>\n",
        "    </tr>\n",
        "    <tr>\n",
        "      <th>6</th>\n",
        "      <td>0.203295</td>\n",
        "      <td>-0.594830</td>\n",
        "      <td>1.431675</td>\n",
        "      <td>0.574445</td>\n",
        "    </tr>\n",
        "    <tr>\n",
        "      <th>7</th>\n",
        "      <td>0.262244</td>\n",
        "      <td>0.328383</td>\n",
        "      <td>-0.599356</td>\n",
        "      <td>-1.730480</td>\n",
        "    </tr>\n",
        "    <tr>\n",
        "      <th>8</th>\n",
        "      <td>0.157448</td>\n",
        "      <td>0.291710</td>\n",
        "      <td>1.401287</td>\n",
        "      <td>0.442187</td>\n",
        "    </tr>\n",
        "  </tbody>\n",
        "</table>\n",
        "</div>"
       ],
       "metadata": {},
       "output_type": "pyout",
       "prompt_number": 22,
       "text": [
        "          0         1         2         3\n",
        "0  0.323735 -0.615816  0.344946 -0.694836\n",
        "1  0.769114  0.560517  1.131815 -0.777021\n",
        "2 -0.504783  0.233836  0.117229  0.435144\n",
        "3  0.605869  0.478992  0.601303 -0.563185\n",
        "4  0.444934 -1.921102 -0.074946  0.275721\n",
        "5 -1.048369  1.517331  0.110185 -0.937150\n",
        "6  0.203295 -0.594830  1.431675  0.574445\n",
        "7  0.262244  0.328383 -0.599356 -1.730480\n",
        "8  0.157448  0.291710  1.401287  0.442187"
       ]
      }
     ],
     "prompt_number": 22
    },
    {
     "cell_type": "code",
     "collapsed": false,
     "input": [
      "df.columns = [['No1', 'No2', 'No3', 'No4']]\n",
      "df"
     ],
     "language": "python",
     "metadata": {
      "uuid": "968395a4-12bc-46d2-b486-6c767abce366"
     },
     "outputs": [
      {
       "html": [
        "<div style=\"max-width:1500px;overflow:auto;\">\n",
        "<table border=\"1\" class=\"dataframe\">\n",
        "  <thead>\n",
        "    <tr style=\"text-align: right;\">\n",
        "      <th></th>\n",
        "      <th>No1</th>\n",
        "      <th>No2</th>\n",
        "      <th>No3</th>\n",
        "      <th>No4</th>\n",
        "    </tr>\n",
        "  </thead>\n",
        "  <tbody>\n",
        "    <tr>\n",
        "      <th>0</th>\n",
        "      <td>0.323735</td>\n",
        "      <td>-0.615816</td>\n",
        "      <td>0.344946</td>\n",
        "      <td>-0.694836</td>\n",
        "    </tr>\n",
        "    <tr>\n",
        "      <th>1</th>\n",
        "      <td>0.769114</td>\n",
        "      <td>0.560517</td>\n",
        "      <td>1.131815</td>\n",
        "      <td>-0.777021</td>\n",
        "    </tr>\n",
        "    <tr>\n",
        "      <th>2</th>\n",
        "      <td>-0.504783</td>\n",
        "      <td>0.233836</td>\n",
        "      <td>0.117229</td>\n",
        "      <td>0.435144</td>\n",
        "    </tr>\n",
        "    <tr>\n",
        "      <th>3</th>\n",
        "      <td>0.605869</td>\n",
        "      <td>0.478992</td>\n",
        "      <td>0.601303</td>\n",
        "      <td>-0.563185</td>\n",
        "    </tr>\n",
        "    <tr>\n",
        "      <th>4</th>\n",
        "      <td>0.444934</td>\n",
        "      <td>-1.921102</td>\n",
        "      <td>-0.074946</td>\n",
        "      <td>0.275721</td>\n",
        "    </tr>\n",
        "    <tr>\n",
        "      <th>5</th>\n",
        "      <td>-1.048369</td>\n",
        "      <td>1.517331</td>\n",
        "      <td>0.110185</td>\n",
        "      <td>-0.937150</td>\n",
        "    </tr>\n",
        "    <tr>\n",
        "      <th>6</th>\n",
        "      <td>0.203295</td>\n",
        "      <td>-0.594830</td>\n",
        "      <td>1.431675</td>\n",
        "      <td>0.574445</td>\n",
        "    </tr>\n",
        "    <tr>\n",
        "      <th>7</th>\n",
        "      <td>0.262244</td>\n",
        "      <td>0.328383</td>\n",
        "      <td>-0.599356</td>\n",
        "      <td>-1.730480</td>\n",
        "    </tr>\n",
        "    <tr>\n",
        "      <th>8</th>\n",
        "      <td>0.157448</td>\n",
        "      <td>0.291710</td>\n",
        "      <td>1.401287</td>\n",
        "      <td>0.442187</td>\n",
        "    </tr>\n",
        "  </tbody>\n",
        "</table>\n",
        "</div>"
       ],
       "metadata": {},
       "output_type": "pyout",
       "prompt_number": 23,
       "text": [
        "        No1       No2       No3       No4\n",
        "0  0.323735 -0.615816  0.344946 -0.694836\n",
        "1  0.769114  0.560517  1.131815 -0.777021\n",
        "2 -0.504783  0.233836  0.117229  0.435144\n",
        "3  0.605869  0.478992  0.601303 -0.563185\n",
        "4  0.444934 -1.921102 -0.074946  0.275721\n",
        "5 -1.048369  1.517331  0.110185 -0.937150\n",
        "6  0.203295 -0.594830  1.431675  0.574445\n",
        "7  0.262244  0.328383 -0.599356 -1.730480\n",
        "8  0.157448  0.291710  1.401287  0.442187"
       ]
      }
     ],
     "prompt_number": 23
    },
    {
     "cell_type": "code",
     "collapsed": false,
     "input": [
      "df['No2'][3]  # value in column No2 at index position 3"
     ],
     "language": "python",
     "metadata": {
      "uuid": "68e8d73f-93d3-47ac-a656-1edbdebcd1ff"
     },
     "outputs": [
      {
       "metadata": {},
       "output_type": "pyout",
       "prompt_number": 24,
       "text": [
        "0.47899153642518433"
       ]
      }
     ],
     "prompt_number": 24
    },
    {
     "cell_type": "code",
     "collapsed": false,
     "input": [
      "dates = pd.date_range('2015-1-1', periods=9, freq='M')\n",
      "dates"
     ],
     "language": "python",
     "metadata": {
      "uuid": "a80e1e88-d211-4ee4-a6d3-90403a7739a8"
     },
     "outputs": [
      {
       "metadata": {},
       "output_type": "pyout",
       "prompt_number": 25,
       "text": [
        "DatetimeIndex(['2015-01-31', '2015-02-28', '2015-03-31', '2015-04-30',\n",
        "               '2015-05-31', '2015-06-30', '2015-07-31', '2015-08-31',\n",
        "               '2015-09-30'],\n",
        "              dtype='datetime64[ns]', freq='M', tz=None)"
       ]
      }
     ],
     "prompt_number": 25
    },
    {
     "cell_type": "code",
     "collapsed": false,
     "input": [
      "df.index = dates\n",
      "df"
     ],
     "language": "python",
     "metadata": {
      "uuid": "d8fef9ed-25ca-4ae0-bd0c-026d340a903b"
     },
     "outputs": [
      {
       "html": [
        "<div style=\"max-width:1500px;overflow:auto;\">\n",
        "<table border=\"1\" class=\"dataframe\">\n",
        "  <thead>\n",
        "    <tr style=\"text-align: right;\">\n",
        "      <th></th>\n",
        "      <th>No1</th>\n",
        "      <th>No2</th>\n",
        "      <th>No3</th>\n",
        "      <th>No4</th>\n",
        "    </tr>\n",
        "  </thead>\n",
        "  <tbody>\n",
        "    <tr>\n",
        "      <th>2015-01-31</th>\n",
        "      <td>0.323735</td>\n",
        "      <td>-0.615816</td>\n",
        "      <td>0.344946</td>\n",
        "      <td>-0.694836</td>\n",
        "    </tr>\n",
        "    <tr>\n",
        "      <th>2015-02-28</th>\n",
        "      <td>0.769114</td>\n",
        "      <td>0.560517</td>\n",
        "      <td>1.131815</td>\n",
        "      <td>-0.777021</td>\n",
        "    </tr>\n",
        "    <tr>\n",
        "      <th>2015-03-31</th>\n",
        "      <td>-0.504783</td>\n",
        "      <td>0.233836</td>\n",
        "      <td>0.117229</td>\n",
        "      <td>0.435144</td>\n",
        "    </tr>\n",
        "    <tr>\n",
        "      <th>2015-04-30</th>\n",
        "      <td>0.605869</td>\n",
        "      <td>0.478992</td>\n",
        "      <td>0.601303</td>\n",
        "      <td>-0.563185</td>\n",
        "    </tr>\n",
        "    <tr>\n",
        "      <th>2015-05-31</th>\n",
        "      <td>0.444934</td>\n",
        "      <td>-1.921102</td>\n",
        "      <td>-0.074946</td>\n",
        "      <td>0.275721</td>\n",
        "    </tr>\n",
        "    <tr>\n",
        "      <th>2015-06-30</th>\n",
        "      <td>-1.048369</td>\n",
        "      <td>1.517331</td>\n",
        "      <td>0.110185</td>\n",
        "      <td>-0.937150</td>\n",
        "    </tr>\n",
        "    <tr>\n",
        "      <th>2015-07-31</th>\n",
        "      <td>0.203295</td>\n",
        "      <td>-0.594830</td>\n",
        "      <td>1.431675</td>\n",
        "      <td>0.574445</td>\n",
        "    </tr>\n",
        "    <tr>\n",
        "      <th>2015-08-31</th>\n",
        "      <td>0.262244</td>\n",
        "      <td>0.328383</td>\n",
        "      <td>-0.599356</td>\n",
        "      <td>-1.730480</td>\n",
        "    </tr>\n",
        "    <tr>\n",
        "      <th>2015-09-30</th>\n",
        "      <td>0.157448</td>\n",
        "      <td>0.291710</td>\n",
        "      <td>1.401287</td>\n",
        "      <td>0.442187</td>\n",
        "    </tr>\n",
        "  </tbody>\n",
        "</table>\n",
        "</div>"
       ],
       "metadata": {},
       "output_type": "pyout",
       "prompt_number": 26,
       "text": [
        "                 No1       No2       No3       No4\n",
        "2015-01-31  0.323735 -0.615816  0.344946 -0.694836\n",
        "2015-02-28  0.769114  0.560517  1.131815 -0.777021\n",
        "2015-03-31 -0.504783  0.233836  0.117229  0.435144\n",
        "2015-04-30  0.605869  0.478992  0.601303 -0.563185\n",
        "2015-05-31  0.444934 -1.921102 -0.074946  0.275721\n",
        "2015-06-30 -1.048369  1.517331  0.110185 -0.937150\n",
        "2015-07-31  0.203295 -0.594830  1.431675  0.574445\n",
        "2015-08-31  0.262244  0.328383 -0.599356 -1.730480\n",
        "2015-09-30  0.157448  0.291710  1.401287  0.442187"
       ]
      }
     ],
     "prompt_number": 26
    },
    {
     "cell_type": "code",
     "collapsed": false,
     "input": [
      "np.array(df).round(6)"
     ],
     "language": "python",
     "metadata": {
      "uuid": "bcc38d60-3e1c-49bb-b883-ea7564c136b4"
     },
     "outputs": [
      {
       "metadata": {},
       "output_type": "pyout",
       "prompt_number": 27,
       "text": [
        "array([[ 0.323735, -0.615816,  0.344946, -0.694836],\n",
        "       [ 0.769114,  0.560517,  1.131815, -0.777021],\n",
        "       [-0.504783,  0.233836,  0.117229,  0.435144],\n",
        "       [ 0.605869,  0.478992,  0.601303, -0.563185],\n",
        "       [ 0.444934, -1.921102, -0.074946,  0.275721],\n",
        "       [-1.048369,  1.517331,  0.110185, -0.93715 ],\n",
        "       [ 0.203295, -0.59483 ,  1.431675,  0.574445],\n",
        "       [ 0.262244,  0.328383, -0.599356, -1.73048 ],\n",
        "       [ 0.157448,  0.29171 ,  1.401287,  0.442187]])"
       ]
      }
     ],
     "prompt_number": 27
    },
    {
     "cell_type": "heading",
     "level": 3,
     "metadata": {},
     "source": [
      "Basic Analytics"
     ]
    },
    {
     "cell_type": "code",
     "collapsed": false,
     "input": [
      "df.sum()"
     ],
     "language": "python",
     "metadata": {
      "uuid": "f760ea25-c64c-4e70-9f91-b72701d919ce"
     },
     "outputs": [
      {
       "metadata": {},
       "output_type": "pyout",
       "prompt_number": 28,
       "text": [
        "No1    1.213487\n",
        "No2    0.279020\n",
        "No3    4.464138\n",
        "No4   -2.975175\n",
        "dtype: float64"
       ]
      }
     ],
     "prompt_number": 28
    },
    {
     "cell_type": "code",
     "collapsed": false,
     "input": [
      "df.mean()"
     ],
     "language": "python",
     "metadata": {
      "uuid": "3dd9bd77-eb80-46cb-87f3-62c053a8e223"
     },
     "outputs": [
      {
       "metadata": {},
       "output_type": "pyout",
       "prompt_number": 29,
       "text": [
        "No1    0.134832\n",
        "No2    0.031002\n",
        "No3    0.496015\n",
        "No4   -0.330575\n",
        "dtype: float64"
       ]
      }
     ],
     "prompt_number": 29
    },
    {
     "cell_type": "code",
     "collapsed": false,
     "input": [
      "df.cumsum()"
     ],
     "language": "python",
     "metadata": {
      "uuid": "8e167ea8-09b7-4585-8cac-28fe20eefe66"
     },
     "outputs": [
      {
       "html": [
        "<div style=\"max-width:1500px;overflow:auto;\">\n",
        "<table border=\"1\" class=\"dataframe\">\n",
        "  <thead>\n",
        "    <tr style=\"text-align: right;\">\n",
        "      <th></th>\n",
        "      <th>No1</th>\n",
        "      <th>No2</th>\n",
        "      <th>No3</th>\n",
        "      <th>No4</th>\n",
        "    </tr>\n",
        "  </thead>\n",
        "  <tbody>\n",
        "    <tr>\n",
        "      <th>2015-01-31</th>\n",
        "      <td>0.323735</td>\n",
        "      <td>-0.615816</td>\n",
        "      <td>0.344946</td>\n",
        "      <td>-0.694836</td>\n",
        "    </tr>\n",
        "    <tr>\n",
        "      <th>2015-02-28</th>\n",
        "      <td>1.092849</td>\n",
        "      <td>-0.055299</td>\n",
        "      <td>1.476761</td>\n",
        "      <td>-1.471857</td>\n",
        "    </tr>\n",
        "    <tr>\n",
        "      <th>2015-03-31</th>\n",
        "      <td>0.588065</td>\n",
        "      <td>0.178537</td>\n",
        "      <td>1.593990</td>\n",
        "      <td>-1.036713</td>\n",
        "    </tr>\n",
        "    <tr>\n",
        "      <th>2015-04-30</th>\n",
        "      <td>1.193934</td>\n",
        "      <td>0.657528</td>\n",
        "      <td>2.195293</td>\n",
        "      <td>-1.599897</td>\n",
        "    </tr>\n",
        "    <tr>\n",
        "      <th>2015-05-31</th>\n",
        "      <td>1.638868</td>\n",
        "      <td>-1.263574</td>\n",
        "      <td>2.120347</td>\n",
        "      <td>-1.324176</td>\n",
        "    </tr>\n",
        "    <tr>\n",
        "      <th>2015-06-30</th>\n",
        "      <td>0.590500</td>\n",
        "      <td>0.253757</td>\n",
        "      <td>2.230532</td>\n",
        "      <td>-2.261326</td>\n",
        "    </tr>\n",
        "    <tr>\n",
        "      <th>2015-07-31</th>\n",
        "      <td>0.793794</td>\n",
        "      <td>-0.341073</td>\n",
        "      <td>3.662207</td>\n",
        "      <td>-1.686882</td>\n",
        "    </tr>\n",
        "    <tr>\n",
        "      <th>2015-08-31</th>\n",
        "      <td>1.056039</td>\n",
        "      <td>-0.012690</td>\n",
        "      <td>3.062851</td>\n",
        "      <td>-3.417362</td>\n",
        "    </tr>\n",
        "    <tr>\n",
        "      <th>2015-09-30</th>\n",
        "      <td>1.213487</td>\n",
        "      <td>0.279020</td>\n",
        "      <td>4.464138</td>\n",
        "      <td>-2.975175</td>\n",
        "    </tr>\n",
        "  </tbody>\n",
        "</table>\n",
        "</div>"
       ],
       "metadata": {},
       "output_type": "pyout",
       "prompt_number": 30,
       "text": [
        "                 No1       No2       No3       No4\n",
        "2015-01-31  0.323735 -0.615816  0.344946 -0.694836\n",
        "2015-02-28  1.092849 -0.055299  1.476761 -1.471857\n",
        "2015-03-31  0.588065  0.178537  1.593990 -1.036713\n",
        "2015-04-30  1.193934  0.657528  2.195293 -1.599897\n",
        "2015-05-31  1.638868 -1.263574  2.120347 -1.324176\n",
        "2015-06-30  0.590500  0.253757  2.230532 -2.261326\n",
        "2015-07-31  0.793794 -0.341073  3.662207 -1.686882\n",
        "2015-08-31  1.056039 -0.012690  3.062851 -3.417362\n",
        "2015-09-30  1.213487  0.279020  4.464138 -2.975175"
       ]
      }
     ],
     "prompt_number": 30
    },
    {
     "cell_type": "code",
     "collapsed": false,
     "input": [
      "df.describe()"
     ],
     "language": "python",
     "metadata": {
      "uuid": "125980cc-91ec-4ab4-9a4a-cfd772dd1254"
     },
     "outputs": [
      {
       "html": [
        "<div style=\"max-width:1500px;overflow:auto;\">\n",
        "<table border=\"1\" class=\"dataframe\">\n",
        "  <thead>\n",
        "    <tr style=\"text-align: right;\">\n",
        "      <th></th>\n",
        "      <th>No1</th>\n",
        "      <th>No2</th>\n",
        "      <th>No3</th>\n",
        "      <th>No4</th>\n",
        "    </tr>\n",
        "  </thead>\n",
        "  <tbody>\n",
        "    <tr>\n",
        "      <th>count</th>\n",
        "      <td>9.000000</td>\n",
        "      <td>9.000000</td>\n",
        "      <td>9.000000</td>\n",
        "      <td>9.000000</td>\n",
        "    </tr>\n",
        "    <tr>\n",
        "      <th>mean</th>\n",
        "      <td>0.134832</td>\n",
        "      <td>0.031002</td>\n",
        "      <td>0.496015</td>\n",
        "      <td>-0.330575</td>\n",
        "    </tr>\n",
        "    <tr>\n",
        "      <th>std</th>\n",
        "      <td>0.568610</td>\n",
        "      <td>0.968798</td>\n",
        "      <td>0.702789</td>\n",
        "      <td>0.797176</td>\n",
        "    </tr>\n",
        "    <tr>\n",
        "      <th>min</th>\n",
        "      <td>-1.048369</td>\n",
        "      <td>-1.921102</td>\n",
        "      <td>-0.599356</td>\n",
        "      <td>-1.730480</td>\n",
        "    </tr>\n",
        "    <tr>\n",
        "      <th>25%</th>\n",
        "      <td>0.157448</td>\n",
        "      <td>-0.594830</td>\n",
        "      <td>0.110185</td>\n",
        "      <td>-0.777021</td>\n",
        "    </tr>\n",
        "    <tr>\n",
        "      <th>50%</th>\n",
        "      <td>0.262244</td>\n",
        "      <td>0.291710</td>\n",
        "      <td>0.344946</td>\n",
        "      <td>-0.563185</td>\n",
        "    </tr>\n",
        "    <tr>\n",
        "      <th>75%</th>\n",
        "      <td>0.444934</td>\n",
        "      <td>0.478992</td>\n",
        "      <td>1.131815</td>\n",
        "      <td>0.435144</td>\n",
        "    </tr>\n",
        "    <tr>\n",
        "      <th>max</th>\n",
        "      <td>0.769114</td>\n",
        "      <td>1.517331</td>\n",
        "      <td>1.431675</td>\n",
        "      <td>0.574445</td>\n",
        "    </tr>\n",
        "  </tbody>\n",
        "</table>\n",
        "</div>"
       ],
       "metadata": {},
       "output_type": "pyout",
       "prompt_number": 31,
       "text": [
        "            No1       No2       No3       No4\n",
        "count  9.000000  9.000000  9.000000  9.000000\n",
        "mean   0.134832  0.031002  0.496015 -0.330575\n",
        "std    0.568610  0.968798  0.702789  0.797176\n",
        "min   -1.048369 -1.921102 -0.599356 -1.730480\n",
        "25%    0.157448 -0.594830  0.110185 -0.777021\n",
        "50%    0.262244  0.291710  0.344946 -0.563185\n",
        "75%    0.444934  0.478992  1.131815  0.435144\n",
        "max    0.769114  1.517331  1.431675  0.574445"
       ]
      }
     ],
     "prompt_number": 31
    },
    {
     "cell_type": "code",
     "collapsed": false,
     "input": [
      "np.sqrt(df)"
     ],
     "language": "python",
     "metadata": {
      "uuid": "9dfc1e40-c030-4a9c-9e3a-ff28c64a93df"
     },
     "outputs": [
      {
       "html": [
        "<div style=\"max-width:1500px;overflow:auto;\">\n",
        "<table border=\"1\" class=\"dataframe\">\n",
        "  <thead>\n",
        "    <tr style=\"text-align: right;\">\n",
        "      <th></th>\n",
        "      <th>No1</th>\n",
        "      <th>No2</th>\n",
        "      <th>No3</th>\n",
        "      <th>No4</th>\n",
        "    </tr>\n",
        "  </thead>\n",
        "  <tbody>\n",
        "    <tr>\n",
        "      <th>2015-01-31</th>\n",
        "      <td>0.568977</td>\n",
        "      <td>NaN</td>\n",
        "      <td>0.587321</td>\n",
        "      <td>NaN</td>\n",
        "    </tr>\n",
        "    <tr>\n",
        "      <th>2015-02-28</th>\n",
        "      <td>0.876991</td>\n",
        "      <td>0.748677</td>\n",
        "      <td>1.063868</td>\n",
        "      <td>NaN</td>\n",
        "    </tr>\n",
        "    <tr>\n",
        "      <th>2015-03-31</th>\n",
        "      <td>NaN</td>\n",
        "      <td>0.483566</td>\n",
        "      <td>0.342387</td>\n",
        "      <td>0.659654</td>\n",
        "    </tr>\n",
        "    <tr>\n",
        "      <th>2015-04-30</th>\n",
        "      <td>0.778376</td>\n",
        "      <td>0.692092</td>\n",
        "      <td>0.775437</td>\n",
        "      <td>NaN</td>\n",
        "    </tr>\n",
        "    <tr>\n",
        "      <th>2015-05-31</th>\n",
        "      <td>0.667034</td>\n",
        "      <td>NaN</td>\n",
        "      <td>NaN</td>\n",
        "      <td>0.525092</td>\n",
        "    </tr>\n",
        "    <tr>\n",
        "      <th>2015-06-30</th>\n",
        "      <td>NaN</td>\n",
        "      <td>1.231800</td>\n",
        "      <td>0.331942</td>\n",
        "      <td>NaN</td>\n",
        "    </tr>\n",
        "    <tr>\n",
        "      <th>2015-07-31</th>\n",
        "      <td>0.450882</td>\n",
        "      <td>NaN</td>\n",
        "      <td>1.196526</td>\n",
        "      <td>0.757921</td>\n",
        "    </tr>\n",
        "    <tr>\n",
        "      <th>2015-08-31</th>\n",
        "      <td>0.512098</td>\n",
        "      <td>0.573047</td>\n",
        "      <td>NaN</td>\n",
        "      <td>NaN</td>\n",
        "    </tr>\n",
        "    <tr>\n",
        "      <th>2015-09-30</th>\n",
        "      <td>0.396797</td>\n",
        "      <td>0.540102</td>\n",
        "      <td>1.183760</td>\n",
        "      <td>0.664971</td>\n",
        "    </tr>\n",
        "  </tbody>\n",
        "</table>\n",
        "</div>"
       ],
       "metadata": {},
       "output_type": "pyout",
       "prompt_number": 32,
       "text": [
        "                 No1       No2       No3       No4\n",
        "2015-01-31  0.568977       NaN  0.587321       NaN\n",
        "2015-02-28  0.876991  0.748677  1.063868       NaN\n",
        "2015-03-31       NaN  0.483566  0.342387  0.659654\n",
        "2015-04-30  0.778376  0.692092  0.775437       NaN\n",
        "2015-05-31  0.667034       NaN       NaN  0.525092\n",
        "2015-06-30       NaN  1.231800  0.331942       NaN\n",
        "2015-07-31  0.450882       NaN  1.196526  0.757921\n",
        "2015-08-31  0.512098  0.573047       NaN       NaN\n",
        "2015-09-30  0.396797  0.540102  1.183760  0.664971"
       ]
      }
     ],
     "prompt_number": 32
    },
    {
     "cell_type": "code",
     "collapsed": false,
     "input": [
      "np.sqrt(df).sum()"
     ],
     "language": "python",
     "metadata": {
      "uuid": "a540362b-50d7-4ef0-89ba-0b6ee38033f6"
     },
     "outputs": [
      {
       "metadata": {},
       "output_type": "pyout",
       "prompt_number": 33,
       "text": [
        "No1    4.251155\n",
        "No2    4.269284\n",
        "No3    5.481241\n",
        "No4    2.607639\n",
        "dtype: float64"
       ]
      }
     ],
     "prompt_number": 33
    },
    {
     "cell_type": "code",
     "collapsed": false,
     "input": [
      "%matplotlib inline\n",
      "df.cumsum().plot(lw=2.0, grid=True)\n",
      "# tag: dataframe_plot\n",
      "# title: Line plot of a DataFrame object"
     ],
     "language": "python",
     "metadata": {
      "uuid": "4b1834ec-9f9b-41d6-8d06-f2efc8433dc4"
     },
     "outputs": [
      {
       "metadata": {},
       "output_type": "pyout",
       "prompt_number": 34,
       "text": [
        "<matplotlib.axes._subplots.AxesSubplot at 0x7ff9d7b01810>"
       ]
      },
      {
       "metadata": {},
       "output_type": "display_data",
       "png": "[encoded data removed]",
       "text": [
        "<matplotlib.figure.Figure at 0x7ff9d7b01210>"
       ]
      }
     ],
     "prompt_number": 34
    },
    {
     "cell_type": "heading",
     "level": 3,
     "metadata": {},
     "source": [
      "Series Class"
     ]
    },
    {
     "cell_type": "code",
     "collapsed": false,
     "input": [
      "type(df)"
     ],
     "language": "python",
     "metadata": {
      "uuid": "e86f82d1-5934-42d3-a986-f01bc829adaa"
     },
     "outputs": [
      {
       "metadata": {},
       "output_type": "pyout",
       "prompt_number": 35,
       "text": [
        "pandas.core.frame.DataFrame"
       ]
      }
     ],
     "prompt_number": 35
    },
    {
     "cell_type": "code",
     "collapsed": false,
     "input": [
      "df['No1']"
     ],
     "language": "python",
     "metadata": {
      "uuid": "bcebc814-623d-4e8a-81e9-314ab36a7429"
     },
     "outputs": [
      {
       "metadata": {},
       "output_type": "pyout",
       "prompt_number": 36,
       "text": [
        "2015-01-31    0.323735\n",
        "2015-02-28    0.769114\n",
        "2015-03-31   -0.504783\n",
        "2015-04-30    0.605869\n",
        "2015-05-31    0.444934\n",
        "2015-06-30   -1.048369\n",
        "2015-07-31    0.203295\n",
        "2015-08-31    0.262244\n",
        "2015-09-30    0.157448\n",
        "Freq: M, Name: No1, dtype: float64"
       ]
      }
     ],
     "prompt_number": 36
    },
    {
     "cell_type": "code",
     "collapsed": false,
     "input": [
      "type(df['No1'])"
     ],
     "language": "python",
     "metadata": {
      "uuid": "ca241ef9-5359-4c89-bc92-be6346cb3959"
     },
     "outputs": [
      {
       "metadata": {},
       "output_type": "pyout",
       "prompt_number": 37,
       "text": [
        "pandas.core.series.Series"
       ]
      }
     ],
     "prompt_number": 37
    },
    {
     "cell_type": "code",
     "collapsed": false,
     "input": [
      "import matplotlib.pyplot as plt\n",
      "df['No1'].cumsum().plot(style='r', lw=2., grid=True)\n",
      "plt.xlabel('date')\n",
      "plt.ylabel('value')\n",
      "# tag: time_series\n",
      "# title: Line plot of a Series object"
     ],
     "language": "python",
     "metadata": {
      "uuid": "b3d4cc90-e499-459c-88a5-011fde80d864"
     },
     "outputs": [
      {
       "metadata": {},
       "output_type": "pyout",
       "prompt_number": 38,
       "text": [
        "<matplotlib.text.Text at 0x7ff9d79aa050>"
       ]
      },
      {
       "metadata": {},
       "output_type": "display_data",
       "png": "[encoded data removed]",
       "text": [
        "<matplotlib.figure.Figure at 0x7ff9d9bee790>"
       ]
      }
     ],
     "prompt_number": 38
    },
    {
     "cell_type": "heading",
     "level": 3,
     "metadata": {},
     "source": [
      "GroupBy Operations"
     ]
    },
    {
     "cell_type": "code",
     "collapsed": false,
     "input": [
      "df['Quarter'] = ['Q1', 'Q1', 'Q1', 'Q2', 'Q2', 'Q2', 'Q3', 'Q3', 'Q3']\n",
      "df"
     ],
     "language": "python",
     "metadata": {
      "uuid": "4bc106dd-9590-4566-bc70-d410517c8223"
     },
     "outputs": [
      {
       "html": [
        "<div style=\"max-width:1500px;overflow:auto;\">\n",
        "<table border=\"1\" class=\"dataframe\">\n",
        "  <thead>\n",
        "    <tr style=\"text-align: right;\">\n",
        "      <th></th>\n",
        "      <th>No1</th>\n",
        "      <th>No2</th>\n",
        "      <th>No3</th>\n",
        "      <th>No4</th>\n",
        "      <th>Quarter</th>\n",
        "    </tr>\n",
        "  </thead>\n",
        "  <tbody>\n",
        "    <tr>\n",
        "      <th>2015-01-31</th>\n",
        "      <td>0.323735</td>\n",
        "      <td>-0.615816</td>\n",
        "      <td>0.344946</td>\n",
        "      <td>-0.694836</td>\n",
        "      <td>Q1</td>\n",
        "    </tr>\n",
        "    <tr>\n",
        "      <th>2015-02-28</th>\n",
        "      <td>0.769114</td>\n",
        "      <td>0.560517</td>\n",
        "      <td>1.131815</td>\n",
        "      <td>-0.777021</td>\n",
        "      <td>Q1</td>\n",
        "    </tr>\n",
        "    <tr>\n",
        "      <th>2015-03-31</th>\n",
        "      <td>-0.504783</td>\n",
        "      <td>0.233836</td>\n",
        "      <td>0.117229</td>\n",
        "      <td>0.435144</td>\n",
        "      <td>Q1</td>\n",
        "    </tr>\n",
        "    <tr>\n",
        "      <th>2015-04-30</th>\n",
        "      <td>0.605869</td>\n",
        "      <td>0.478992</td>\n",
        "      <td>0.601303</td>\n",
        "      <td>-0.563185</td>\n",
        "      <td>Q2</td>\n",
        "    </tr>\n",
        "    <tr>\n",
        "      <th>2015-05-31</th>\n",
        "      <td>0.444934</td>\n",
        "      <td>-1.921102</td>\n",
        "      <td>-0.074946</td>\n",
        "      <td>0.275721</td>\n",
        "      <td>Q2</td>\n",
        "    </tr>\n",
        "    <tr>\n",
        "      <th>2015-06-30</th>\n",
        "      <td>-1.048369</td>\n",
        "      <td>1.517331</td>\n",
        "      <td>0.110185</td>\n",
        "      <td>-0.937150</td>\n",
        "      <td>Q2</td>\n",
        "    </tr>\n",
        "    <tr>\n",
        "      <th>2015-07-31</th>\n",
        "      <td>0.203295</td>\n",
        "      <td>-0.594830</td>\n",
        "      <td>1.431675</td>\n",
        "      <td>0.574445</td>\n",
        "      <td>Q3</td>\n",
        "    </tr>\n",
        "    <tr>\n",
        "      <th>2015-08-31</th>\n",
        "      <td>0.262244</td>\n",
        "      <td>0.328383</td>\n",
        "      <td>-0.599356</td>\n",
        "      <td>-1.730480</td>\n",
        "      <td>Q3</td>\n",
        "    </tr>\n",
        "    <tr>\n",
        "      <th>2015-09-30</th>\n",
        "      <td>0.157448</td>\n",
        "      <td>0.291710</td>\n",
        "      <td>1.401287</td>\n",
        "      <td>0.442187</td>\n",
        "      <td>Q3</td>\n",
        "    </tr>\n",
        "  </tbody>\n",
        "</table>\n",
        "</div>"
       ],
       "metadata": {},
       "output_type": "pyout",
       "prompt_number": 39,
       "text": [
        "                 No1       No2       No3       No4 Quarter\n",
        "2015-01-31  0.323735 -0.615816  0.344946 -0.694836      Q1\n",
        "2015-02-28  0.769114  0.560517  1.131815 -0.777021      Q1\n",
        "2015-03-31 -0.504783  0.233836  0.117229  0.435144      Q1\n",
        "2015-04-30  0.605869  0.478992  0.601303 -0.563185      Q2\n",
        "2015-05-31  0.444934 -1.921102 -0.074946  0.275721      Q2\n",
        "2015-06-30 -1.048369  1.517331  0.110185 -0.937150      Q2\n",
        "2015-07-31  0.203295 -0.594830  1.431675  0.574445      Q3\n",
        "2015-08-31  0.262244  0.328383 -0.599356 -1.730480      Q3\n",
        "2015-09-30  0.157448  0.291710  1.401287  0.442187      Q3"
       ]
      }
     ],
     "prompt_number": 39
    },
    {
     "cell_type": "code",
     "collapsed": false,
     "input": [
      "groups = df.groupby('Quarter')"
     ],
     "language": "python",
     "metadata": {
      "uuid": "41c1962a-05ba-4c0f-b017-e6873e2d245e"
     },
     "outputs": [],
     "prompt_number": 40
    },
    {
     "cell_type": "code",
     "collapsed": false,
     "input": [
      "groups.mean()"
     ],
     "language": "python",
     "metadata": {
      "uuid": "804e567f-6b74-4405-a10e-d19d914655e7"
     },
     "outputs": [
      {
       "html": [
        "<div style=\"max-width:1500px;overflow:auto;\">\n",
        "<table border=\"1\" class=\"dataframe\">\n",
        "  <thead>\n",
        "    <tr style=\"text-align: right;\">\n",
        "      <th></th>\n",
        "      <th>No1</th>\n",
        "      <th>No2</th>\n",
        "      <th>No3</th>\n",
        "      <th>No4</th>\n",
        "    </tr>\n",
        "    <tr>\n",
        "      <th>Quarter</th>\n",
        "      <th></th>\n",
        "      <th></th>\n",
        "      <th></th>\n",
        "      <th></th>\n",
        "    </tr>\n",
        "  </thead>\n",
        "  <tbody>\n",
        "    <tr>\n",
        "      <th>Q1</th>\n",
        "      <td>0.196022</td>\n",
        "      <td>0.059512</td>\n",
        "      <td>0.531330</td>\n",
        "      <td>-0.345571</td>\n",
        "    </tr>\n",
        "    <tr>\n",
        "      <th>Q2</th>\n",
        "      <td>0.000811</td>\n",
        "      <td>0.025073</td>\n",
        "      <td>0.212181</td>\n",
        "      <td>-0.408205</td>\n",
        "    </tr>\n",
        "    <tr>\n",
        "      <th>Q3</th>\n",
        "      <td>0.207662</td>\n",
        "      <td>0.008421</td>\n",
        "      <td>0.744535</td>\n",
        "      <td>-0.237950</td>\n",
        "    </tr>\n",
        "  </tbody>\n",
        "</table>\n",
        "</div>"
       ],
       "metadata": {},
       "output_type": "pyout",
       "prompt_number": 41,
       "text": [
        "              No1       No2       No3       No4\n",
        "Quarter                                        \n",
        "Q1       0.196022  0.059512  0.531330 -0.345571\n",
        "Q2       0.000811  0.025073  0.212181 -0.408205\n",
        "Q3       0.207662  0.008421  0.744535 -0.237950"
       ]
      }
     ],
     "prompt_number": 41
    },
    {
     "cell_type": "code",
     "collapsed": false,
     "input": [
      "groups.max()"
     ],
     "language": "python",
     "metadata": {
      "uuid": "7eb45e5c-b86f-4464-afd9-d5a3665e0f8e"
     },
     "outputs": [
      {
       "html": [
        "<div style=\"max-width:1500px;overflow:auto;\">\n",
        "<table border=\"1\" class=\"dataframe\">\n",
        "  <thead>\n",
        "    <tr style=\"text-align: right;\">\n",
        "      <th></th>\n",
        "      <th>No1</th>\n",
        "      <th>No2</th>\n",
        "      <th>No3</th>\n",
        "      <th>No4</th>\n",
        "    </tr>\n",
        "    <tr>\n",
        "      <th>Quarter</th>\n",
        "      <th></th>\n",
        "      <th></th>\n",
        "      <th></th>\n",
        "      <th></th>\n",
        "    </tr>\n",
        "  </thead>\n",
        "  <tbody>\n",
        "    <tr>\n",
        "      <th>Q1</th>\n",
        "      <td>0.769114</td>\n",
        "      <td>0.560517</td>\n",
        "      <td>1.131815</td>\n",
        "      <td>0.435144</td>\n",
        "    </tr>\n",
        "    <tr>\n",
        "      <th>Q2</th>\n",
        "      <td>0.605869</td>\n",
        "      <td>1.517331</td>\n",
        "      <td>0.601303</td>\n",
        "      <td>0.275721</td>\n",
        "    </tr>\n",
        "    <tr>\n",
        "      <th>Q3</th>\n",
        "      <td>0.262244</td>\n",
        "      <td>0.328383</td>\n",
        "      <td>1.431675</td>\n",
        "      <td>0.574445</td>\n",
        "    </tr>\n",
        "  </tbody>\n",
        "</table>\n",
        "</div>"
       ],
       "metadata": {},
       "output_type": "pyout",
       "prompt_number": 42,
       "text": [
        "              No1       No2       No3       No4\n",
        "Quarter                                        \n",
        "Q1       0.769114  0.560517  1.131815  0.435144\n",
        "Q2       0.605869  1.517331  0.601303  0.275721\n",
        "Q3       0.262244  0.328383  1.431675  0.574445"
       ]
      }
     ],
     "prompt_number": 42
    },
    {
     "cell_type": "code",
     "collapsed": false,
     "input": [
      "groups.size()"
     ],
     "language": "python",
     "metadata": {
      "uuid": "a871b95e-5946-4b09-b8dc-bc9503d2ff14"
     },
     "outputs": [
      {
       "metadata": {},
       "output_type": "pyout",
       "prompt_number": 43,
       "text": [
        "Quarter\n",
        "Q1    3\n",
        "Q2    3\n",
        "Q3    3\n",
        "dtype: int64"
       ]
      }
     ],
     "prompt_number": 43
    },
    {
     "cell_type": "code",
     "collapsed": false,
     "input": [
      "df['Odd_Even'] = ['Odd', 'Even', 'Odd', 'Even', 'Odd', 'Even',\n",
      "                  'Odd', 'Even', 'Odd']"
     ],
     "language": "python",
     "metadata": {
      "uuid": "542cf99a-bbf8-447e-9643-d6887ac74be7"
     },
     "outputs": [],
     "prompt_number": 44
    },
    {
     "cell_type": "code",
     "collapsed": false,
     "input": [
      "groups = df.groupby(['Quarter', 'Odd_Even'])"
     ],
     "language": "python",
     "metadata": {
      "uuid": "f5144c9f-ff37-4e35-9417-e39debdcd45b"
     },
     "outputs": [],
     "prompt_number": 45
    },
    {
     "cell_type": "code",
     "collapsed": false,
     "input": [
      "groups.size()"
     ],
     "language": "python",
     "metadata": {
      "uuid": "06904508-dbf1-431f-a3a2-681f29f03c51"
     },
     "outputs": [
      {
       "metadata": {},
       "output_type": "pyout",
       "prompt_number": 46,
       "text": [
        "Quarter  Odd_Even\n",
        "Q1       Even        1\n",
        "         Odd         2\n",
        "Q2       Even        2\n",
        "         Odd         1\n",
        "Q3       Even        1\n",
        "         Odd         2\n",
        "dtype: int64"
       ]
      }
     ],
     "prompt_number": 46
    },
    {
     "cell_type": "code",
     "collapsed": false,
     "input": [
      "groups.mean()"
     ],
     "language": "python",
     "metadata": {
      "uuid": "b8471956-40fc-4203-a54a-aaa45f5a3c00"
     },
     "outputs": [
      {
       "html": [
        "<div style=\"max-width:1500px;overflow:auto;\">\n",
        "<table border=\"1\" class=\"dataframe\">\n",
        "  <thead>\n",
        "    <tr style=\"text-align: right;\">\n",
        "      <th></th>\n",
        "      <th></th>\n",
        "      <th>No1</th>\n",
        "      <th>No2</th>\n",
        "      <th>No3</th>\n",
        "      <th>No4</th>\n",
        "    </tr>\n",
        "    <tr>\n",
        "      <th>Quarter</th>\n",
        "      <th>Odd_Even</th>\n",
        "      <th></th>\n",
        "      <th></th>\n",
        "      <th></th>\n",
        "      <th></th>\n",
        "    </tr>\n",
        "  </thead>\n",
        "  <tbody>\n",
        "    <tr>\n",
        "      <th rowspan=\"2\" valign=\"top\">Q1</th>\n",
        "      <th>Even</th>\n",
        "      <td>0.769114</td>\n",
        "      <td>0.560517</td>\n",
        "      <td>1.131815</td>\n",
        "      <td>-0.777021</td>\n",
        "    </tr>\n",
        "    <tr>\n",
        "      <th>Odd</th>\n",
        "      <td>-0.090524</td>\n",
        "      <td>-0.190990</td>\n",
        "      <td>0.231087</td>\n",
        "      <td>-0.129846</td>\n",
        "    </tr>\n",
        "    <tr>\n",
        "      <th rowspan=\"2\" valign=\"top\">Q2</th>\n",
        "      <th>Even</th>\n",
        "      <td>-0.221250</td>\n",
        "      <td>0.998161</td>\n",
        "      <td>0.355744</td>\n",
        "      <td>-0.750167</td>\n",
        "    </tr>\n",
        "    <tr>\n",
        "      <th>Odd</th>\n",
        "      <td>0.444934</td>\n",
        "      <td>-1.921102</td>\n",
        "      <td>-0.074946</td>\n",
        "      <td>0.275721</td>\n",
        "    </tr>\n",
        "    <tr>\n",
        "      <th rowspan=\"2\" valign=\"top\">Q3</th>\n",
        "      <th>Even</th>\n",
        "      <td>0.262244</td>\n",
        "      <td>0.328383</td>\n",
        "      <td>-0.599356</td>\n",
        "      <td>-1.730480</td>\n",
        "    </tr>\n",
        "    <tr>\n",
        "      <th>Odd</th>\n",
        "      <td>0.180371</td>\n",
        "      <td>-0.151560</td>\n",
        "      <td>1.416481</td>\n",
        "      <td>0.508316</td>\n",
        "    </tr>\n",
        "  </tbody>\n",
        "</table>\n",
        "</div>"
       ],
       "metadata": {},
       "output_type": "pyout",
       "prompt_number": 47,
       "text": [
        "                       No1       No2       No3       No4\n",
        "Quarter Odd_Even                                        \n",
        "Q1      Even      0.769114  0.560517  1.131815 -0.777021\n",
        "        Odd      -0.090524 -0.190990  0.231087 -0.129846\n",
        "Q2      Even     -0.221250  0.998161  0.355744 -0.750167\n",
        "        Odd       0.444934 -1.921102 -0.074946  0.275721\n",
        "Q3      Even      0.262244  0.328383 -0.599356 -1.730480\n",
        "        Odd       0.180371 -0.151560  1.416481  0.508316"
       ]
      }
     ],
     "prompt_number": 47
    },
    {
     "cell_type": "heading",
     "level": 2,
     "metadata": {},
     "source": [
      "Financial Data"
     ]
    },
    {
     "cell_type": "code",
     "collapsed": false,
     "input": [
      "import pandas.io.data as web"
     ],
     "language": "python",
     "metadata": {
      "uuid": "9805e014-8a17-4e54-b6fd-1c77db7b6b78"
     },
     "outputs": [],
     "prompt_number": 48
    },
    {
     "cell_type": "code",
     "collapsed": false,
     "input": [
      "DAX = web.DataReader(name='^GDAXI', data_source='yahoo',\n",
      "                     start='2000-1-1')\n",
      "DAX.info()"
     ],
     "language": "python",
     "metadata": {
      "uuid": "53a33e39-a3ff-4c95-b0f2-a94d727ae0da"
     },
     "outputs": [
      {
       "output_type": "stream",
       "stream": "stdout",
       "text": [
        "<class 'pandas.core.frame.DataFrame'>\n",
        "DatetimeIndex: 3960 entries, 2000-01-03 to 2015-07-17\n",
        "Data columns (total 6 columns):\n",
        "Open         3960 non-null float64\n",
        "High         3960 non-null float64\n",
        "Low          3960 non-null float64\n",
        "Close        3960 non-null float64\n",
        "Volume       3960 non-null int64\n",
        "Adj Close    3960 non-null float64\n",
        "dtypes: float64(5), int64(1)\n",
        "memory usage: 216.6 KB\n"
       ]
      }
     ],
     "prompt_number": 49
    },
    {
     "cell_type": "code",
     "collapsed": false,
     "input": [
      "DAX.tail()"
     ],
     "language": "python",
     "metadata": {
      "uuid": "11984b1c-5248-4640-8f3b-a85040eb5683"
     },
     "outputs": [
      {
       "html": [
        "<div style=\"max-width:1500px;overflow:auto;\">\n",
        "<table border=\"1\" class=\"dataframe\">\n",
        "  <thead>\n",
        "    <tr style=\"text-align: right;\">\n",
        "      <th></th>\n",
        "      <th>Open</th>\n",
        "      <th>High</th>\n",
        "      <th>Low</th>\n",
        "      <th>Close</th>\n",
        "      <th>Volume</th>\n",
        "      <th>Adj Close</th>\n",
        "    </tr>\n",
        "    <tr>\n",
        "      <th>Date</th>\n",
        "      <th></th>\n",
        "      <th></th>\n",
        "      <th></th>\n",
        "      <th></th>\n",
        "      <th></th>\n",
        "      <th></th>\n",
        "    </tr>\n",
        "  </thead>\n",
        "  <tbody>\n",
        "    <tr>\n",
        "      <th>2015-07-13</th>\n",
        "      <td>11489.169922</td>\n",
        "      <td>11506.980469</td>\n",
        "      <td>11421.820312</td>\n",
        "      <td>11484.379883</td>\n",
        "      <td>89129700</td>\n",
        "      <td>11484.379883</td>\n",
        "    </tr>\n",
        "    <tr>\n",
        "      <th>2015-07-14</th>\n",
        "      <td>11456.540039</td>\n",
        "      <td>11519.360352</td>\n",
        "      <td>11414.389648</td>\n",
        "      <td>11516.900391</td>\n",
        "      <td>0</td>\n",
        "      <td>11516.900391</td>\n",
        "    </tr>\n",
        "    <tr>\n",
        "      <th>2015-07-15</th>\n",
        "      <td>11508.339844</td>\n",
        "      <td>11566.019531</td>\n",
        "      <td>11475.959961</td>\n",
        "      <td>11539.660156</td>\n",
        "      <td>64691500</td>\n",
        "      <td>11539.660156</td>\n",
        "    </tr>\n",
        "    <tr>\n",
        "      <th>2015-07-16</th>\n",
        "      <td>11624.480469</td>\n",
        "      <td>11787.580078</td>\n",
        "      <td>11607.139648</td>\n",
        "      <td>11716.759766</td>\n",
        "      <td>83876500</td>\n",
        "      <td>11716.759766</td>\n",
        "    </tr>\n",
        "    <tr>\n",
        "      <th>2015-07-17</th>\n",
        "      <td>11747.469727</td>\n",
        "      <td>11753.179688</td>\n",
        "      <td>11649.940430</td>\n",
        "      <td>11673.419922</td>\n",
        "      <td>67855100</td>\n",
        "      <td>11673.419922</td>\n",
        "    </tr>\n",
        "  </tbody>\n",
        "</table>\n",
        "</div>"
       ],
       "metadata": {},
       "output_type": "pyout",
       "prompt_number": 50,
       "text": [
        "                    Open          High           Low         Close    Volume  \\\n",
        "Date                                                                           \n",
        "2015-07-13  11489.169922  11506.980469  11421.820312  11484.379883  89129700   \n",
        "2015-07-14  11456.540039  11519.360352  11414.389648  11516.900391         0   \n",
        "2015-07-15  11508.339844  11566.019531  11475.959961  11539.660156  64691500   \n",
        "2015-07-16  11624.480469  11787.580078  11607.139648  11716.759766  83876500   \n",
        "2015-07-17  11747.469727  11753.179688  11649.940430  11673.419922  67855100   \n",
        "\n",
        "               Adj Close  \n",
        "Date                      \n",
        "2015-07-13  11484.379883  \n",
        "2015-07-14  11516.900391  \n",
        "2015-07-15  11539.660156  \n",
        "2015-07-16  11716.759766  \n",
        "2015-07-17  11673.419922  "
       ]
      }
     ],
     "prompt_number": 50
    },
    {
     "cell_type": "code",
     "collapsed": false,
     "input": [
      "DAX['Close'].plot(figsize=(8, 5), grid=True)\n",
      "# tag: dax\n",
      "# title: Historical DAX index levels"
     ],
     "language": "python",
     "metadata": {
      "uuid": "6185abc6-54c5-4711-b273-3252938f3e5e"
     },
     "outputs": [
      {
       "metadata": {},
       "output_type": "pyout",
       "prompt_number": 51,
       "text": [
        "<matplotlib.axes._subplots.AxesSubplot at 0x7ff9d792c250>"
       ]
      },
      {
       "metadata": {},
       "output_type": "display_data",
       "png": "[encoded data removed]",
       "text": [
        "<matplotlib.figure.Figure at 0x7ff9d79ff650>"
       ]
      }
     ],
     "prompt_number": 51
    },
    {
     "cell_type": "raw",
     "metadata": {},
     "source": [
      "%%time\n",
      "DAX['Ret_Loop'] = 0.0\n",
      "for i in range(1, len(DAX)):\n",
      "    DAX['Ret_Loop'][i] = np.log(DAX['Close'][i] /\n",
      "                                DAX['Close'][i - 1])"
     ]
    },
    {
     "cell_type": "raw",
     "metadata": {},
     "source": [
      "DAX[['Close', 'Ret_Loop']].tail()"
     ]
    },
    {
     "cell_type": "code",
     "collapsed": false,
     "input": [
      "%time DAX['Return'] = np.log(DAX['Close'] / DAX['Close'].shift(1))"
     ],
     "language": "python",
     "metadata": {
      "uuid": "9b45b8c2-3b95-4c80-94a0-14f891cdd161"
     },
     "outputs": [
      {
       "output_type": "stream",
       "stream": "stdout",
       "text": [
        "CPU times: user 27 ms, sys: 1 ms, total: 28 ms\n",
        "Wall time: 28 ms\n"
       ]
      }
     ],
     "prompt_number": 52
    },
    {
     "cell_type": "code",
     "collapsed": false,
     "input": [
      "DAX[['Close', 'Return', 'Return']].tail()"
     ],
     "language": "python",
     "metadata": {
      "uuid": "5fbf45e9-dd56-40ba-8a75-086a80a04d5b"
     },
     "outputs": [
      {
       "html": [
        "<div style=\"max-width:1500px;overflow:auto;\">\n",
        "<table border=\"1\" class=\"dataframe\">\n",
        "  <thead>\n",
        "    <tr style=\"text-align: right;\">\n",
        "      <th></th>\n",
        "      <th>Close</th>\n",
        "      <th>Return</th>\n",
        "      <th>Return</th>\n",
        "    </tr>\n",
        "    <tr>\n",
        "      <th>Date</th>\n",
        "      <th></th>\n",
        "      <th></th>\n",
        "      <th></th>\n",
        "    </tr>\n",
        "  </thead>\n",
        "  <tbody>\n",
        "    <tr>\n",
        "      <th>2015-07-13</th>\n",
        "      <td>11484.379883</td>\n",
        "      <td>0.014803</td>\n",
        "      <td>0.014803</td>\n",
        "    </tr>\n",
        "    <tr>\n",
        "      <th>2015-07-14</th>\n",
        "      <td>11516.900391</td>\n",
        "      <td>0.002828</td>\n",
        "      <td>0.002828</td>\n",
        "    </tr>\n",
        "    <tr>\n",
        "      <th>2015-07-15</th>\n",
        "      <td>11539.660156</td>\n",
        "      <td>0.001974</td>\n",
        "      <td>0.001974</td>\n",
        "    </tr>\n",
        "    <tr>\n",
        "      <th>2015-07-16</th>\n",
        "      <td>11716.759766</td>\n",
        "      <td>0.015230</td>\n",
        "      <td>0.015230</td>\n",
        "    </tr>\n",
        "    <tr>\n",
        "      <th>2015-07-17</th>\n",
        "      <td>11673.419922</td>\n",
        "      <td>-0.003706</td>\n",
        "      <td>-0.003706</td>\n",
        "    </tr>\n",
        "  </tbody>\n",
        "</table>\n",
        "</div>"
       ],
       "metadata": {},
       "output_type": "pyout",
       "prompt_number": 53,
       "text": [
        "                   Close    Return    Return\n",
        "Date                                        \n",
        "2015-07-13  11484.379883  0.014803  0.014803\n",
        "2015-07-14  11516.900391  0.002828  0.002828\n",
        "2015-07-15  11539.660156  0.001974  0.001974\n",
        "2015-07-16  11716.759766  0.015230  0.015230\n",
        "2015-07-17  11673.419922 -0.003706 -0.003706"
       ]
      }
     ],
     "prompt_number": 53
    },
    {
     "cell_type": "raw",
     "metadata": {},
     "source": [
      "del DAX['Ret_Loop']"
     ]
    },
    {
     "cell_type": "code",
     "collapsed": false,
     "input": [
      "DAX[['Close', 'Return']].plot(subplots=True, style='b',\n",
      "                              figsize=(8, 5), grid=True)\n",
      "# tag: dax_returns\n",
      "# title: The DAX index and daily log returns"
     ],
     "language": "python",
     "metadata": {
      "uuid": "8995980e-7fa1-482e-8996-3a0cc1050359"
     },
     "outputs": [
      {
       "metadata": {},
       "output_type": "pyout",
       "prompt_number": 54,
       "text": [
        "array([<matplotlib.axes._subplots.AxesSubplot object at 0x7ff9d79a0210>,\n",
        "       <matplotlib.axes._subplots.AxesSubplot object at 0x7ff9d771bf50>], dtype=object)"
       ]
      },
      {
       "metadata": {},
       "output_type": "display_data",
       "png": "[encoded data removed]",
       "text": [
        "<matplotlib.figure.Figure at 0x7ff9d7a082d0>"
       ]
      }
     ],
     "prompt_number": 54
    },
    {
     "cell_type": "code",
     "collapsed": false,
     "input": [
      "DAX['42d'] = pd.rolling_mean(DAX['Close'], window=42)\n",
      "DAX['252d'] = pd.rolling_mean(DAX['Close'], window=252)"
     ],
     "language": "python",
     "metadata": {
      "uuid": "956890ca-7927-4fac-a99a-af7a15cac58f"
     },
     "outputs": [],
     "prompt_number": 55
    },
    {
     "cell_type": "code",
     "collapsed": false,
     "input": [
      "DAX[['Close', '42d', '252d']].tail()"
     ],
     "language": "python",
     "metadata": {
      "uuid": "f5440e3f-b808-4685-9bec-5f6ca39609c5"
     },
     "outputs": [
      {
       "html": [
        "<div style=\"max-width:1500px;overflow:auto;\">\n",
        "<table border=\"1\" class=\"dataframe\">\n",
        "  <thead>\n",
        "    <tr style=\"text-align: right;\">\n",
        "      <th></th>\n",
        "      <th>Close</th>\n",
        "      <th>42d</th>\n",
        "      <th>252d</th>\n",
        "    </tr>\n",
        "    <tr>\n",
        "      <th>Date</th>\n",
        "      <th></th>\n",
        "      <th></th>\n",
        "      <th></th>\n",
        "    </tr>\n",
        "  </thead>\n",
        "  <tbody>\n",
        "    <tr>\n",
        "      <th>2015-07-13</th>\n",
        "      <td>11484.379883</td>\n",
        "      <td>11312.334705</td>\n",
        "      <td>10411.000333</td>\n",
        "    </tr>\n",
        "    <tr>\n",
        "      <th>2015-07-14</th>\n",
        "      <td>11516.900391</td>\n",
        "      <td>11311.312802</td>\n",
        "      <td>10418.343828</td>\n",
        "    </tr>\n",
        "    <tr>\n",
        "      <th>2015-07-15</th>\n",
        "      <td>11539.660156</td>\n",
        "      <td>11313.518276</td>\n",
        "      <td>10425.314662</td>\n",
        "    </tr>\n",
        "    <tr>\n",
        "      <th>2015-07-16</th>\n",
        "      <td>11716.759766</td>\n",
        "      <td>11316.434454</td>\n",
        "      <td>10433.240653</td>\n",
        "    </tr>\n",
        "    <tr>\n",
        "      <th>2015-07-17</th>\n",
        "      <td>11673.419922</td>\n",
        "      <td>11312.150879</td>\n",
        "      <td>10440.439662</td>\n",
        "    </tr>\n",
        "  </tbody>\n",
        "</table>\n",
        "</div>"
       ],
       "metadata": {},
       "output_type": "pyout",
       "prompt_number": 56,
       "text": [
        "                   Close           42d          252d\n",
        "Date                                                \n",
        "2015-07-13  11484.379883  11312.334705  10411.000333\n",
        "2015-07-14  11516.900391  11311.312802  10418.343828\n",
        "2015-07-15  11539.660156  11313.518276  10425.314662\n",
        "2015-07-16  11716.759766  11316.434454  10433.240653\n",
        "2015-07-17  11673.419922  11312.150879  10440.439662"
       ]
      }
     ],
     "prompt_number": 56
    },
    {
     "cell_type": "code",
     "collapsed": false,
     "input": [
      "DAX[['Close', '42d', '252d']].plot(figsize=(8, 5), grid=True)\n",
      "# tag: dax_trends\n",
      "# title: The DAX index and moving averages"
     ],
     "language": "python",
     "metadata": {
      "uuid": "281a5820-2a77-46b4-b399-8c0913423bc3"
     },
     "outputs": [
      {
       "metadata": {},
       "output_type": "pyout",
       "prompt_number": 57,
       "text": [
        "<matplotlib.axes._subplots.AxesSubplot at 0x7ff9d78e3790>"
       ]
      },
      {
       "metadata": {},
       "output_type": "display_data",
       "png": "[encoded data removed]",
       "text": [
        "<matplotlib.figure.Figure at 0x7ff9d79f0490>"
       ]
      }
     ],
     "prompt_number": 57
    },
    {
     "cell_type": "code",
     "collapsed": false,
     "input": [
      "import math\n",
      "DAX['Mov_Vol'] = pd.rolling_std(DAX['Return'],\n",
      "                                window=252) * math.sqrt(252)\n",
      "  # moving annual volatility"
     ],
     "language": "python",
     "metadata": {
      "uuid": "1b12ae02-5e35-47ff-a9c9-8563e468b489"
     },
     "outputs": [],
     "prompt_number": 58
    },
    {
     "cell_type": "code",
     "collapsed": false,
     "input": [
      "DAX[['Close', 'Mov_Vol', 'Return']].plot(subplots=True, style='b',\n",
      "                                         figsize=(8, 7), grid=True)\n",
      "# tag: dax_mov_std\n",
      "# title: The DAX index and moving, annualized volatility"
     ],
     "language": "python",
     "metadata": {
      "uuid": "2e75f8fd-bcf8-4c36-93b9-974ef94366c7"
     },
     "outputs": [
      {
       "metadata": {},
       "output_type": "pyout",
       "prompt_number": 59,
       "text": [
        "array([<matplotlib.axes._subplots.AxesSubplot object at 0x7ff9d74822d0>,\n",
        "       <matplotlib.axes._subplots.AxesSubplot object at 0x7ff9d747c090>,\n",
        "       <matplotlib.axes._subplots.AxesSubplot object at 0x7ff9d7436390>], dtype=object)"
       ]
      },
      {
       "metadata": {},
       "output_type": "display_data",
       "png": "[encoded data removed]",
       "text": [
        "<matplotlib.figure.Figure at 0x7ff9d754e890>"
       ]
      }
     ],
     "prompt_number": 59
    },
    {
     "cell_type": "heading",
     "level": 2,
     "metadata": {},
     "source": [
      "Regression Analysis"
     ]
    },
    {
     "cell_type": "code",
     "collapsed": false,
     "input": [
      "import pandas as pd\n",
      "from urllib import urlretrieve"
     ],
     "language": "python",
     "metadata": {
      "uuid": "85bf9df2-d445-4600-a02e-37cf2b7dc9ff"
     },
     "outputs": [],
     "prompt_number": 60
    },
    {
     "cell_type": "code",
     "collapsed": false,
     "input": [
      "es_url = 'https://www.stoxx.com/document/Indices/Current/HistoricalData/hbrbcpe.txt'\n",
      "vs_url = 'https://www.stoxx.com/document/Indices/Current/HistoricalData/h_vstoxx.txt'\n",
      "urlretrieve(es_url, './data/es.txt')\n",
      "urlretrieve(vs_url, './data/vs.txt')\n",
      "!ls -o ./data/*.txt\n",
      "# Windows: use dir"
     ],
     "language": "python",
     "metadata": {
      "uuid": "17a2e317-7047-4c9f-9faf-7e0e4132bd01"
     },
     "outputs": [
      {
       "output_type": "stream",
       "stream": "stdout",
       "text": [
        "-rw-r--r-- 1 trial_yves 659835 Jul 20 12:23 ./data/es.txt\r\n",
        "-rw-r--r-- 1 trial_yves 351316 Jul 20 12:23 ./data/vs.txt\r\n"
       ]
      }
     ],
     "prompt_number": 61
    },
    {
     "cell_type": "code",
     "collapsed": false,
     "input": [
      "lines = open('./data/es.txt', 'r').readlines()\n",
      "lines = [line.replace(' ', '') for line in lines]"
     ],
     "language": "python",
     "metadata": {
      "uuid": "3bdd1237-41d5-4e92-8d2c-3c4ffd25e7e9"
     },
     "outputs": [],
     "prompt_number": 62
    },
    {
     "cell_type": "code",
     "collapsed": false,
     "input": [
      "lines[:6]"
     ],
     "language": "python",
     "metadata": {
      "uuid": "6c7769ea-4fb8-49ef-bdc8-4e06b986fb3e"
     },
     "outputs": [
      {
       "metadata": {},
       "output_type": "pyout",
       "prompt_number": 63,
       "text": [
        "['PriceIndices-EUROCurrency\\n',\n",
        " 'Date;Blue-Chip;Blue-Chip;Broad;Broad;ExUK;ExEuroZone;Blue-Chip;Broad\\n',\n",
        " ';Europe;Euro-Zone;Europe;Euro-Zone;;;Nordic;Nordic\\n',\n",
        " ';SX5P;SX5E;SXXP;SXXE;SXXF;SXXA;DK5F;DKXF\\n',\n",
        " '31.12.1986;775.00;900.82;82.76;98.58;98.06;69.06;645.26;65.56\\n',\n",
        " '01.01.1987;775.00;900.82;82.76;98.58;98.06;69.06;645.26;65.56\\n']"
       ]
      }
     ],
     "prompt_number": 63
    },
    {
     "cell_type": "code",
     "collapsed": false,
     "input": [
      "for line in lines[3883:3890]:\n",
      "    print line[41:],"
     ],
     "language": "python",
     "metadata": {
      "uuid": "b5edc764-13a4-4e0c-b6d3-ac615b4a530b"
     },
     "outputs": [
      {
       "output_type": "stream",
       "stream": "stdout",
       "text": [
        "317.10;267.23;5268.36;363.19\n",
        "322.55;272.18;5360.52;370.94\n",
        "322.69;272.95;5360.52;370.94\n",
        "327.57;277.68;5479.59;378.69;\n",
        "329.94;278.87;5585.35;386.99;\n",
        "326.77;272.38;5522.25;380.09;\n",
        "332.62;277.08;5722.57;396.12;\n"
       ]
      }
     ],
     "prompt_number": 64
    },
    {
     "cell_type": "code",
     "collapsed": false,
     "input": [
      "new_file = open('./data/es50.txt', 'w')\n",
      "    # opens a new file\n",
      "new_file.writelines('date' + lines[3][:-1]\n",
      "                    + ';DEL' + lines[3][-1])\n",
      "    # writes the corrected third line of the orginal file\n",
      "    # as first line of new file\n",
      "new_file.writelines(lines[4:])\n",
      "    # writes the remaining lines of the orginial file\n",
      "new_file.close()"
     ],
     "language": "python",
     "metadata": {
      "uuid": "ea43adac-94fb-4b11-8af5-153c6fb4cebe"
     },
     "outputs": [],
     "prompt_number": 65
    },
    {
     "cell_type": "code",
     "collapsed": false,
     "input": [
      "new_lines = open('./data/es50.txt', 'r').readlines()\n",
      "new_lines[:5]"
     ],
     "language": "python",
     "metadata": {
      "uuid": "aca0ad29-cce1-4da5-b39e-ace9bafe3077"
     },
     "outputs": [
      {
       "metadata": {},
       "output_type": "pyout",
       "prompt_number": 66,
       "text": [
        "['date;SX5P;SX5E;SXXP;SXXE;SXXF;SXXA;DK5F;DKXF;DEL\\n',\n",
        " '31.12.1986;775.00;900.82;82.76;98.58;98.06;69.06;645.26;65.56\\n',\n",
        " '01.01.1987;775.00;900.82;82.76;98.58;98.06;69.06;645.26;65.56\\n',\n",
        " '02.01.1987;770.89;891.78;82.57;97.80;97.43;69.37;647.62;65.81\\n',\n",
        " '05.01.1987;771.89;898.33;82.82;98.60;98.19;69.16;649.94;65.82\\n']"
       ]
      }
     ],
     "prompt_number": 66
    },
    {
     "cell_type": "code",
     "collapsed": false,
     "input": [
      "es = pd.read_csv('./data/es50.txt', index_col=0,\n",
      "                 parse_dates=True, sep=';', dayfirst=True)"
     ],
     "language": "python",
     "metadata": {
      "uuid": "0bc55f0d-cd99-45b9-955e-3a126360e94f"
     },
     "outputs": [],
     "prompt_number": 67
    },
    {
     "cell_type": "code",
     "collapsed": false,
     "input": [
      "np.round(es.tail())"
     ],
     "language": "python",
     "metadata": {
      "uuid": "73526ac3-4bf0-4455-89b2-f6aa614ffdca"
     },
     "outputs": [
      {
       "html": [
        "<div style=\"max-width:1500px;overflow:auto;\">\n",
        "<table border=\"1\" class=\"dataframe\">\n",
        "  <thead>\n",
        "    <tr style=\"text-align: right;\">\n",
        "      <th></th>\n",
        "      <th>SX5P</th>\n",
        "      <th>SX5E</th>\n",
        "      <th>SXXP</th>\n",
        "      <th>SXXE</th>\n",
        "      <th>SXXF</th>\n",
        "      <th>SXXA</th>\n",
        "      <th>DK5F</th>\n",
        "      <th>DKXF</th>\n",
        "      <th>DEL</th>\n",
        "    </tr>\n",
        "    <tr>\n",
        "      <th>date</th>\n",
        "      <th></th>\n",
        "      <th></th>\n",
        "      <th></th>\n",
        "      <th></th>\n",
        "      <th></th>\n",
        "      <th></th>\n",
        "      <th></th>\n",
        "      <th></th>\n",
        "      <th></th>\n",
        "    </tr>\n",
        "  </thead>\n",
        "  <tbody>\n",
        "    <tr>\n",
        "      <th>2015-07-13</th>\n",
        "      <td>3433</td>\n",
        "      <td>3590</td>\n",
        "      <td>396</td>\n",
        "      <td>370</td>\n",
        "      <td>465</td>\n",
        "      <td>410</td>\n",
        "      <td>10710</td>\n",
        "      <td>644</td>\n",
        "      <td>NaN</td>\n",
        "    </tr>\n",
        "    <tr>\n",
        "      <th>2015-07-14</th>\n",
        "      <td>3458</td>\n",
        "      <td>3607</td>\n",
        "      <td>398</td>\n",
        "      <td>372</td>\n",
        "      <td>467</td>\n",
        "      <td>413</td>\n",
        "      <td>10707</td>\n",
        "      <td>644</td>\n",
        "      <td>NaN</td>\n",
        "    </tr>\n",
        "    <tr>\n",
        "      <th>2015-07-15</th>\n",
        "      <td>3468</td>\n",
        "      <td>3624</td>\n",
        "      <td>400</td>\n",
        "      <td>373</td>\n",
        "      <td>468</td>\n",
        "      <td>414</td>\n",
        "      <td>10700</td>\n",
        "      <td>644</td>\n",
        "      <td>NaN</td>\n",
        "    </tr>\n",
        "    <tr>\n",
        "      <th>2015-07-16</th>\n",
        "      <td>3514</td>\n",
        "      <td>3676</td>\n",
        "      <td>405</td>\n",
        "      <td>379</td>\n",
        "      <td>475</td>\n",
        "      <td>420</td>\n",
        "      <td>10882</td>\n",
        "      <td>655</td>\n",
        "      <td>NaN</td>\n",
        "    </tr>\n",
        "    <tr>\n",
        "      <th>2015-07-17</th>\n",
        "      <td>3514</td>\n",
        "      <td>3670</td>\n",
        "      <td>406</td>\n",
        "      <td>378</td>\n",
        "      <td>475</td>\n",
        "      <td>420</td>\n",
        "      <td>10847</td>\n",
        "      <td>653</td>\n",
        "      <td>NaN</td>\n",
        "    </tr>\n",
        "  </tbody>\n",
        "</table>\n",
        "</div>"
       ],
       "metadata": {},
       "output_type": "pyout",
       "prompt_number": 68,
       "text": [
        "            SX5P  SX5E  SXXP  SXXE  SXXF  SXXA   DK5F  DKXF  DEL\n",
        "date                                                            \n",
        "2015-07-13  3433  3590   396   370   465   410  10710   644  NaN\n",
        "2015-07-14  3458  3607   398   372   467   413  10707   644  NaN\n",
        "2015-07-15  3468  3624   400   373   468   414  10700   644  NaN\n",
        "2015-07-16  3514  3676   405   379   475   420  10882   655  NaN\n",
        "2015-07-17  3514  3670   406   378   475   420  10847   653  NaN"
       ]
      }
     ],
     "prompt_number": 68
    },
    {
     "cell_type": "code",
     "collapsed": false,
     "input": [
      "del es['DEL'] \n",
      "es.info()"
     ],
     "language": "python",
     "metadata": {
      "uuid": "e6e3100a-8296-494f-9758-bbb0006c5df4"
     },
     "outputs": [
      {
       "output_type": "stream",
       "stream": "stdout",
       "text": [
        "<class 'pandas.core.frame.DataFrame'>\n",
        "DatetimeIndex: 7358 entries, 1986-12-31 to 2015-07-17\n",
        "Data columns (total 8 columns):\n",
        "SX5P    7358 non-null float64\n",
        "SX5E    7358 non-null float64\n",
        "SXXP    7358 non-null float64\n",
        "SXXE    7358 non-null float64\n",
        "SXXF    7358 non-null float64\n",
        "SXXA    7358 non-null float64\n",
        "DK5F    7358 non-null float64\n",
        "DKXF    7358 non-null float64\n",
        "dtypes: float64(8)\n",
        "memory usage: 517.4 KB\n"
       ]
      }
     ],
     "prompt_number": 69
    },
    {
     "cell_type": "code",
     "collapsed": false,
     "input": [
      "cols = ['SX5P', 'SX5E', 'SXXP', 'SXXE', 'SXXF',\n",
      "        'SXXA', 'DK5F', 'DKXF']\n",
      "es = pd.read_csv(es_url, index_col=0, parse_dates=True,\n",
      "                 sep=';', dayfirst=True, header=None,\n",
      "                 skiprows=4, names=cols)"
     ],
     "language": "python",
     "metadata": {
      "uuid": "fff2d2a1-dce8-4f4c-bab9-0b990a1f7b5f"
     },
     "outputs": [],
     "prompt_number": 70
    },
    {
     "cell_type": "code",
     "collapsed": false,
     "input": [
      "es.tail()"
     ],
     "language": "python",
     "metadata": {
      "uuid": "76793f6a-1625-4fc2-8063-38536b46b15e"
     },
     "outputs": [
      {
       "html": [
        "<div style=\"max-width:1500px;overflow:auto;\">\n",
        "<table border=\"1\" class=\"dataframe\">\n",
        "  <thead>\n",
        "    <tr style=\"text-align: right;\">\n",
        "      <th></th>\n",
        "      <th>SX5P</th>\n",
        "      <th>SX5E</th>\n",
        "      <th>SXXP</th>\n",
        "      <th>SXXE</th>\n",
        "      <th>SXXF</th>\n",
        "      <th>SXXA</th>\n",
        "      <th>DK5F</th>\n",
        "      <th>DKXF</th>\n",
        "    </tr>\n",
        "  </thead>\n",
        "  <tbody>\n",
        "    <tr>\n",
        "      <th>2015-07-13</th>\n",
        "      <td>3433.35</td>\n",
        "      <td>3590.43</td>\n",
        "      <td>396.46</td>\n",
        "      <td>370.33</td>\n",
        "      <td>464.90</td>\n",
        "      <td>410.34</td>\n",
        "      <td>10710.20</td>\n",
        "      <td>643.76</td>\n",
        "    </tr>\n",
        "    <tr>\n",
        "      <th>2015-07-14</th>\n",
        "      <td>3457.54</td>\n",
        "      <td>3607.19</td>\n",
        "      <td>398.30</td>\n",
        "      <td>371.63</td>\n",
        "      <td>466.97</td>\n",
        "      <td>412.64</td>\n",
        "      <td>10706.53</td>\n",
        "      <td>643.83</td>\n",
        "    </tr>\n",
        "    <tr>\n",
        "      <th>2015-07-15</th>\n",
        "      <td>3468.24</td>\n",
        "      <td>3623.87</td>\n",
        "      <td>400.03</td>\n",
        "      <td>373.46</td>\n",
        "      <td>468.40</td>\n",
        "      <td>414.25</td>\n",
        "      <td>10700.27</td>\n",
        "      <td>643.92</td>\n",
        "    </tr>\n",
        "    <tr>\n",
        "      <th>2015-07-16</th>\n",
        "      <td>3514.16</td>\n",
        "      <td>3676.41</td>\n",
        "      <td>405.43</td>\n",
        "      <td>378.68</td>\n",
        "      <td>475.49</td>\n",
        "      <td>419.65</td>\n",
        "      <td>10882.24</td>\n",
        "      <td>654.95</td>\n",
        "    </tr>\n",
        "    <tr>\n",
        "      <th>2015-07-17</th>\n",
        "      <td>3513.73</td>\n",
        "      <td>3670.34</td>\n",
        "      <td>405.68</td>\n",
        "      <td>378.41</td>\n",
        "      <td>474.87</td>\n",
        "      <td>420.39</td>\n",
        "      <td>10847.41</td>\n",
        "      <td>653.28</td>\n",
        "    </tr>\n",
        "  </tbody>\n",
        "</table>\n",
        "</div>"
       ],
       "metadata": {},
       "output_type": "pyout",
       "prompt_number": 71,
       "text": [
        "               SX5P     SX5E    SXXP    SXXE    SXXF    SXXA      DK5F    DKXF\n",
        "2015-07-13  3433.35  3590.43  396.46  370.33  464.90  410.34  10710.20  643.76\n",
        "2015-07-14  3457.54  3607.19  398.30  371.63  466.97  412.64  10706.53  643.83\n",
        "2015-07-15  3468.24  3623.87  400.03  373.46  468.40  414.25  10700.27  643.92\n",
        "2015-07-16  3514.16  3676.41  405.43  378.68  475.49  419.65  10882.24  654.95\n",
        "2015-07-17  3513.73  3670.34  405.68  378.41  474.87  420.39  10847.41  653.28"
       ]
      }
     ],
     "prompt_number": 71
    },
    {
     "cell_type": "code",
     "collapsed": false,
     "input": [
      "vs = pd.read_csv('./data/vs.txt', index_col=0, header=2,\n",
      "                 parse_dates=True, dayfirst=True)\n",
      "vs.info()"
     ],
     "language": "python",
     "metadata": {
      "uuid": "3a1920c2-8c61-4720-941e-afdb983350aa"
     },
     "outputs": [
      {
       "output_type": "stream",
       "stream": "stdout",
       "text": [
        "<class 'pandas.core.frame.DataFrame'>\n",
        "DatetimeIndex: 4211 entries, 1999-01-04 to 2015-07-17\n",
        "Data columns (total 9 columns):\n",
        "V2TX    4211 non-null float64\n",
        "V6I1    3772 non-null float64\n",
        "V6I2    4211 non-null float64\n",
        "V6I3    4155 non-null float64\n",
        "V6I4    4211 non-null float64\n",
        "V6I5    4211 non-null float64\n",
        "V6I6    4195 non-null float64\n",
        "V6I7    4211 non-null float64\n",
        "V6I8    4198 non-null float64\n",
        "dtypes: float64(9)\n",
        "memory usage: 329.0 KB\n"
       ]
      }
     ],
     "prompt_number": 72
    },
    {
     "cell_type": "code",
     "collapsed": false,
     "input": [
      "import datetime as dt\n",
      "data = pd.DataFrame({'EUROSTOXX' :\n",
      "                     es['SX5E'][es.index > dt.datetime(1999, 1, 1)]})\n",
      "data = data.join(pd.DataFrame({'VSTOXX' :\n",
      "                     vs['V2TX'][vs.index > dt.datetime(1999, 1, 1)]}))"
     ],
     "language": "python",
     "metadata": {
      "uuid": "3a437278-4466-41bf-b7f2-f9c17d2c44a7"
     },
     "outputs": [],
     "prompt_number": 73
    },
    {
     "cell_type": "code",
     "collapsed": false,
     "input": [
      "data = data.fillna(method='ffill')\n",
      "data.info()"
     ],
     "language": "python",
     "metadata": {
      "uuid": "9223e142-d574-40c9-92e7-149d86628458"
     },
     "outputs": [
      {
       "output_type": "stream",
       "stream": "stdout",
       "text": [
        "<class 'pandas.core.frame.DataFrame'>\n",
        "DatetimeIndex: 4239 entries, 1999-01-04 to 2015-07-17\n",
        "Data columns (total 2 columns):\n",
        "EUROSTOXX    4239 non-null float64\n",
        "VSTOXX       4239 non-null float64\n",
        "dtypes: float64(2)\n",
        "memory usage: 99.4 KB\n"
       ]
      }
     ],
     "prompt_number": 74
    },
    {
     "cell_type": "code",
     "collapsed": false,
     "input": [
      "data.tail()"
     ],
     "language": "python",
     "metadata": {
      "uuid": "fc5fc92a-3475-4e4b-a5fe-145809d35919"
     },
     "outputs": [
      {
       "html": [
        "<div style=\"max-width:1500px;overflow:auto;\">\n",
        "<table border=\"1\" class=\"dataframe\">\n",
        "  <thead>\n",
        "    <tr style=\"text-align: right;\">\n",
        "      <th></th>\n",
        "      <th>EUROSTOXX</th>\n",
        "      <th>VSTOXX</th>\n",
        "    </tr>\n",
        "  </thead>\n",
        "  <tbody>\n",
        "    <tr>\n",
        "      <th>2015-07-13</th>\n",
        "      <td>3590.43</td>\n",
        "      <td>23.2482</td>\n",
        "    </tr>\n",
        "    <tr>\n",
        "      <th>2015-07-14</th>\n",
        "      <td>3607.19</td>\n",
        "      <td>21.5485</td>\n",
        "    </tr>\n",
        "    <tr>\n",
        "      <th>2015-07-15</th>\n",
        "      <td>3623.87</td>\n",
        "      <td>21.0969</td>\n",
        "    </tr>\n",
        "    <tr>\n",
        "      <th>2015-07-16</th>\n",
        "      <td>3676.41</td>\n",
        "      <td>19.0180</td>\n",
        "    </tr>\n",
        "    <tr>\n",
        "      <th>2015-07-17</th>\n",
        "      <td>3670.34</td>\n",
        "      <td>18.9656</td>\n",
        "    </tr>\n",
        "  </tbody>\n",
        "</table>\n",
        "</div>"
       ],
       "metadata": {},
       "output_type": "pyout",
       "prompt_number": 75,
       "text": [
        "            EUROSTOXX   VSTOXX\n",
        "2015-07-13    3590.43  23.2482\n",
        "2015-07-14    3607.19  21.5485\n",
        "2015-07-15    3623.87  21.0969\n",
        "2015-07-16    3676.41  19.0180\n",
        "2015-07-17    3670.34  18.9656"
       ]
      }
     ],
     "prompt_number": 75
    },
    {
     "cell_type": "code",
     "collapsed": false,
     "input": [
      "data.plot(subplots=True, grid=True, style='b', figsize=(8, 6))\n",
      "# tag: es50_vs\n",
      "# title: The EURO STOXX 50 Index and the VSTOXX volatility index"
     ],
     "language": "python",
     "metadata": {
      "uuid": "07158c72-907f-4636-ad40-95182b7728e3"
     },
     "outputs": [
      {
       "metadata": {},
       "output_type": "pyout",
       "prompt_number": 76,
       "text": [
        "array([<matplotlib.axes._subplots.AxesSubplot object at 0x7ff9d72517d0>,\n",
        "       <matplotlib.axes._subplots.AxesSubplot object at 0x7ff9d6f8de90>], dtype=object)"
       ]
      },
      {
       "metadata": {},
       "output_type": "display_data",
       "png": "[encoded data removed]",
       "text": [
        "<matplotlib.figure.Figure at 0x7ff9d7595c50>"
       ]
      }
     ],
     "prompt_number": 76
    },
    {
     "cell_type": "code",
     "collapsed": false,
     "input": [
      "rets = np.log(data / data.shift(1)) \n",
      "rets.head()"
     ],
     "language": "python",
     "metadata": {
      "uuid": "17ae59ff-9863-4c30-9493-22d44c0e5edf"
     },
     "outputs": [
      {
       "html": [
        "<div style=\"max-width:1500px;overflow:auto;\">\n",
        "<table border=\"1\" class=\"dataframe\">\n",
        "  <thead>\n",
        "    <tr style=\"text-align: right;\">\n",
        "      <th></th>\n",
        "      <th>EUROSTOXX</th>\n",
        "      <th>VSTOXX</th>\n",
        "    </tr>\n",
        "  </thead>\n",
        "  <tbody>\n",
        "    <tr>\n",
        "      <th>1999-01-04</th>\n",
        "      <td>NaN</td>\n",
        "      <td>NaN</td>\n",
        "    </tr>\n",
        "    <tr>\n",
        "      <th>1999-01-05</th>\n",
        "      <td>0.017228</td>\n",
        "      <td>0.489248</td>\n",
        "    </tr>\n",
        "    <tr>\n",
        "      <th>1999-01-06</th>\n",
        "      <td>0.022138</td>\n",
        "      <td>-0.165317</td>\n",
        "    </tr>\n",
        "    <tr>\n",
        "      <th>1999-01-07</th>\n",
        "      <td>-0.015723</td>\n",
        "      <td>0.256337</td>\n",
        "    </tr>\n",
        "    <tr>\n",
        "      <th>1999-01-08</th>\n",
        "      <td>-0.003120</td>\n",
        "      <td>0.021570</td>\n",
        "    </tr>\n",
        "  </tbody>\n",
        "</table>\n",
        "</div>"
       ],
       "metadata": {},
       "output_type": "pyout",
       "prompt_number": 77,
       "text": [
        "            EUROSTOXX    VSTOXX\n",
        "1999-01-04        NaN       NaN\n",
        "1999-01-05   0.017228  0.489248\n",
        "1999-01-06   0.022138 -0.165317\n",
        "1999-01-07  -0.015723  0.256337\n",
        "1999-01-08  -0.003120  0.021570"
       ]
      }
     ],
     "prompt_number": 77
    },
    {
     "cell_type": "code",
     "collapsed": false,
     "input": [
      "rets.plot(subplots=True, grid=True, style='b', figsize=(8, 6))\n",
      "# tag: es50_vs_rets\n",
      "# title: Log returns of EURO STOXX 50 and VSTOXX"
     ],
     "language": "python",
     "metadata": {
      "uuid": "771c53bf-78fb-4260-865b-39307973cb77"
     },
     "outputs": [
      {
       "metadata": {},
       "output_type": "pyout",
       "prompt_number": 78,
       "text": [
        "array([<matplotlib.axes._subplots.AxesSubplot object at 0x7ff9d7609b10>,\n",
        "       <matplotlib.axes._subplots.AxesSubplot object at 0x7ff9d6e6d710>], dtype=object)"
       ]
      },
      {
       "metadata": {},
       "output_type": "display_data",
       "png": "[encoded data removed]",
       "text": [
        "<matplotlib.figure.Figure at 0x7ff9d71fdfd0>"
       ]
      }
     ],
     "prompt_number": 78
    },
    {
     "cell_type": "code",
     "collapsed": false,
     "input": [
      "xdat = rets['EUROSTOXX']\n",
      "ydat = rets['VSTOXX']\n",
      "model = pd.ols(y=ydat, x=xdat)\n",
      "model"
     ],
     "language": "python",
     "metadata": {
      "uuid": "709bc1e8-03a8-47c6-9b21-4efa08052dab"
     },
     "outputs": [
      {
       "metadata": {},
       "output_type": "pyout",
       "prompt_number": 79,
       "text": [
        "\n",
        "-------------------------Summary of Regression Analysis-------------------------\n",
        "\n",
        "Formula: Y ~ <x> + <intercept>\n",
        "\n",
        "Number of Observations:         4238\n",
        "Number of Degrees of Freedom:   2\n",
        "\n",
        "R-squared:         0.5333\n",
        "Adj R-squared:     0.5332\n",
        "\n",
        "Rmse:              0.0394\n",
        "\n",
        "F-stat (1, 4236):  4840.9971, p-value:     0.0000\n",
        "\n",
        "Degrees of Freedom: model 1, resid 4236\n",
        "\n",
        "-----------------------Summary of Estimated Coefficients------------------------\n",
        "      Variable       Coef    Std Err     t-stat    p-value    CI 2.5%   CI 97.5%\n",
        "--------------------------------------------------------------------------------\n",
        "             x    -2.8038     0.0403     -69.58     0.0000    -2.8828    -2.7248\n",
        "     intercept     0.0000     0.0006       0.05     0.9565    -0.0012     0.0012\n",
        "---------------------------------End of Summary---------------------------------"
       ]
      }
     ],
     "prompt_number": 79
    },
    {
     "cell_type": "code",
     "collapsed": false,
     "input": [
      "model.beta"
     ],
     "language": "python",
     "metadata": {
      "uuid": "ff00a7f1-173c-40f8-b077-9892ad310f4a"
     },
     "outputs": [
      {
       "metadata": {},
       "output_type": "pyout",
       "prompt_number": 80,
       "text": [
        "x           -2.803822\n",
        "intercept    0.000033\n",
        "dtype: float64"
       ]
      }
     ],
     "prompt_number": 80
    },
    {
     "cell_type": "code",
     "collapsed": false,
     "input": [
      "plt.plot(xdat, ydat, 'r.')\n",
      "ax = plt.axis()  # grab axis values\n",
      "x = np.linspace(ax[0], ax[1] + 0.01)\n",
      "plt.plot(x, model.beta[1] + model.beta[0] * x, 'b', lw=2)\n",
      "plt.grid(True)\n",
      "plt.axis('tight')\n",
      "plt.xlabel('EURO STOXX 50 returns')\n",
      "plt.ylabel('VSTOXX returns')\n",
      "# tag: scatter_rets\n",
      "# title: Scatter plot of log returns and regression line"
     ],
     "language": "python",
     "metadata": {
      "uuid": "24c708df-1e81-48c6-b1c2-890dd52e541f"
     },
     "outputs": [
      {
       "metadata": {},
       "output_type": "pyout",
       "prompt_number": 81,
       "text": [
        "<matplotlib.text.Text at 0x7ff9cc1d41d0>"
       ]
      },
      {
       "metadata": {},
       "output_type": "display_data",
       "png": "[encoded data removed]",
       "text": [
        "<matplotlib.figure.Figure at 0x7ff9d7482d50>"
       ]
      }
     ],
     "prompt_number": 81
    },
    {
     "cell_type": "code",
     "collapsed": false,
     "input": [
      "rets.corr()"
     ],
     "language": "python",
     "metadata": {
      "uuid": "e1f9009e-5b73-4e04-9b10-deea36f4e508"
     },
     "outputs": [
      {
       "html": [
        "<div style=\"max-width:1500px;overflow:auto;\">\n",
        "<table border=\"1\" class=\"dataframe\">\n",
        "  <thead>\n",
        "    <tr style=\"text-align: right;\">\n",
        "      <th></th>\n",
        "      <th>EUROSTOXX</th>\n",
        "      <th>VSTOXX</th>\n",
        "    </tr>\n",
        "  </thead>\n",
        "  <tbody>\n",
        "    <tr>\n",
        "      <th>EUROSTOXX</th>\n",
        "      <td>1.000000</td>\n",
        "      <td>-0.730292</td>\n",
        "    </tr>\n",
        "    <tr>\n",
        "      <th>VSTOXX</th>\n",
        "      <td>-0.730292</td>\n",
        "      <td>1.000000</td>\n",
        "    </tr>\n",
        "  </tbody>\n",
        "</table>\n",
        "</div>"
       ],
       "metadata": {},
       "output_type": "pyout",
       "prompt_number": 82,
       "text": [
        "           EUROSTOXX    VSTOXX\n",
        "EUROSTOXX   1.000000 -0.730292\n",
        "VSTOXX     -0.730292  1.000000"
       ]
      }
     ],
     "prompt_number": 82
    },
    {
     "cell_type": "code",
     "collapsed": false,
     "input": [
      "pd.rolling_corr(rets['EUROSTOXX'], rets['VSTOXX'],\n",
      "                window=252).plot(grid=True, style='b')\n",
      "# tag: roll_corr\n",
      "# title: Rolling correlation between EURO STOXX 50 and VSTOXX"
     ],
     "language": "python",
     "metadata": {
      "uuid": "a534d3db-df59-4a31-b0b7-1ab3c19d77d0"
     },
     "outputs": [
      {
       "metadata": {},
       "output_type": "pyout",
       "prompt_number": 83,
       "text": [
        "<matplotlib.axes._subplots.AxesSubplot at 0x7ff9cc21f7d0>"
       ]
      },
      {
       "metadata": {},
       "output_type": "display_data",
       "png": "[encoded data removed]",
       "text": [
        "<matplotlib.figure.Figure at 0x7ff9d6e1c150>"
       ]
      }
     ],
     "prompt_number": 83
    },
    {
     "cell_type": "heading",
     "level": 2,
     "metadata": {},
     "source": [
      "High Frequency Data"
     ]
    },
    {
     "cell_type": "code",
     "collapsed": false,
     "input": [
      "import numpy as np\n",
      "import pandas as pd\n",
      "import datetime as dt\n",
      "from urllib import urlretrieve\n",
      "%matplotlib inline"
     ],
     "language": "python",
     "metadata": {
      "uuid": "cd3bd5f2-565a-4158-a796-e8ec41f76d88"
     },
     "outputs": [],
     "prompt_number": 84
    },
    {
     "cell_type": "code",
     "collapsed": false,
     "input": [
      "url1 = 'http://www.netfonds.no/quotes/posdump.php?'\n",
      "url2 = 'date=%s%s%s&paper=NKE.N&csv_format=csv'\n",
      "url = url1 + url2"
     ],
     "language": "python",
     "metadata": {
      "uuid": "63521c3e-8197-464a-a5bc-dc9a15550893"
     },
     "outputs": [],
     "prompt_number": 85
    },
    {
     "cell_type": "code",
     "collapsed": false,
     "input": [
      "year = '2015'\n",
      "month = '07'\n",
      "days = ['13', '14', '15', '16', '17']\n",
      "  # dates might need to be updated"
     ],
     "language": "python",
     "metadata": {
      "uuid": "8fa05c35-a914-49b2-8da1-841146b43931"
     },
     "outputs": [],
     "prompt_number": 86
    },
    {
     "cell_type": "code",
     "collapsed": false,
     "input": [
      "NKE = pd.DataFrame()\n",
      "for day in days:\n",
      "    NKE = NKE.append(pd.read_csv(url % (year, month, day),\n",
      "                       index_col=0, header=0, parse_dates=True))\n",
      "NKE.columns = ['bid', 'bdepth', 'bdeptht', 'offer', 'odepth', 'odeptht']\n",
      "  # shorter colummn names"
     ],
     "language": "python",
     "metadata": {
      "uuid": "946e1882-04bb-4809-869f-1e7dd8ad396a"
     },
     "outputs": [],
     "prompt_number": 87
    },
    {
     "cell_type": "code",
     "collapsed": false,
     "input": [
      "NKE.info()"
     ],
     "language": "python",
     "metadata": {
      "uuid": "1fce3fb2-c664-4f77-80dc-0e4907f86dac"
     },
     "outputs": [
      {
       "output_type": "stream",
       "stream": "stdout",
       "text": [
        "<class 'pandas.core.frame.DataFrame'>\n",
        "DatetimeIndex: 27825 entries, 2015-07-13 10:00:01 to 2015-07-17 22:00:00\n",
        "Data columns (total 6 columns):\n",
        "bid        27825 non-null float64\n",
        "bdepth     27825 non-null int64\n",
        "bdeptht    27825 non-null int64\n",
        "offer      27825 non-null float64\n",
        "odepth     27825 non-null int64\n",
        "odeptht    27825 non-null int64\n",
        "dtypes: float64(2), int64(4)\n",
        "memory usage: 1.5 MB\n"
       ]
      }
     ],
     "prompt_number": 88
    },
    {
     "cell_type": "code",
     "collapsed": false,
     "input": [
      "NKE['bid'].plot(grid=True)\n",
      "# tag: aapl\n",
      "# title: Nike stock tick data for a week"
     ],
     "language": "python",
     "metadata": {
      "uuid": "b0fa9c58-2087-4f99-a7f1-efeb490bb456"
     },
     "outputs": [
      {
       "metadata": {},
       "output_type": "pyout",
       "prompt_number": 89,
       "text": [
        "<matplotlib.axes._subplots.AxesSubplot at 0x7ff9d746a150>"
       ]
      },
      {
       "metadata": {},
       "output_type": "display_data",
       "png": "[encoded data removed]",
       "text": [
        "<matplotlib.figure.Figure at 0x7ff9d6c48650>"
       ]
      }
     ],
     "prompt_number": 89
    },
    {
     "cell_type": "code",
     "collapsed": false,
     "input": [
      "to_plot = NKE[['bid', 'bdeptht']][\n",
      "    (NKE.index > dt.datetime(2015, 7, 14, 0, 0))\n",
      " &  (NKE.index < dt.datetime(2015, 7, 15, 2, 59))]\n",
      "  # adjust dates to given data set\n",
      "to_plot.plot(subplots=True, style='b', figsize=(8, 5), grid=True)\n",
      "# tag: aapl_day\n",
      "# title: Apple stock tick data and volume for a trading day"
     ],
     "language": "python",
     "metadata": {
      "uuid": "73447893-dc77-488a-8252-64c29a92e4c0"
     },
     "outputs": [
      {
       "metadata": {},
       "output_type": "pyout",
       "prompt_number": 90,
       "text": [
        "array([<matplotlib.axes._subplots.AxesSubplot object at 0x7ff9cb9b0950>,\n",
        "       <matplotlib.axes._subplots.AxesSubplot object at 0x7ff9cb701b90>], dtype=object)"
       ]
      },
      {
       "metadata": {},
       "output_type": "display_data",
       "png": "[encoded data removed]",
       "text": [
        "<matplotlib.figure.Figure at 0x7ff9d6dcf490>"
       ]
      }
     ],
     "prompt_number": 90
    },
    {
     "cell_type": "code",
     "collapsed": false,
     "input": [
      "NKE_resam = NKE.resample(rule='5min', how='mean')\n",
      "np.round(NKE_resam.head(), 2)"
     ],
     "language": "python",
     "metadata": {
      "uuid": "47a27b89-f6a1-4b3c-9944-8a6109642c72"
     },
     "outputs": [
      {
       "html": [
        "<div style=\"max-width:1500px;overflow:auto;\">\n",
        "<table border=\"1\" class=\"dataframe\">\n",
        "  <thead>\n",
        "    <tr style=\"text-align: right;\">\n",
        "      <th></th>\n",
        "      <th>bid</th>\n",
        "      <th>bdepth</th>\n",
        "      <th>bdeptht</th>\n",
        "      <th>offer</th>\n",
        "      <th>odepth</th>\n",
        "      <th>odeptht</th>\n",
        "    </tr>\n",
        "    <tr>\n",
        "      <th>time</th>\n",
        "      <th></th>\n",
        "      <th></th>\n",
        "      <th></th>\n",
        "      <th></th>\n",
        "      <th></th>\n",
        "      <th></th>\n",
        "    </tr>\n",
        "  </thead>\n",
        "  <tbody>\n",
        "    <tr>\n",
        "      <th>2015-07-13 10:00:00</th>\n",
        "      <td>109.78</td>\n",
        "      <td>100</td>\n",
        "      <td>100</td>\n",
        "      <td>112.38</td>\n",
        "      <td>100</td>\n",
        "      <td>100</td>\n",
        "    </tr>\n",
        "    <tr>\n",
        "      <th>2015-07-13 10:05:00</th>\n",
        "      <td>NaN</td>\n",
        "      <td>NaN</td>\n",
        "      <td>NaN</td>\n",
        "      <td>NaN</td>\n",
        "      <td>NaN</td>\n",
        "      <td>NaN</td>\n",
        "    </tr>\n",
        "    <tr>\n",
        "      <th>2015-07-13 10:10:00</th>\n",
        "      <td>110.08</td>\n",
        "      <td>100</td>\n",
        "      <td>100</td>\n",
        "      <td>113.27</td>\n",
        "      <td>100</td>\n",
        "      <td>100</td>\n",
        "    </tr>\n",
        "    <tr>\n",
        "      <th>2015-07-13 10:15:00</th>\n",
        "      <td>NaN</td>\n",
        "      <td>NaN</td>\n",
        "      <td>NaN</td>\n",
        "      <td>NaN</td>\n",
        "      <td>NaN</td>\n",
        "      <td>NaN</td>\n",
        "    </tr>\n",
        "    <tr>\n",
        "      <th>2015-07-13 10:20:00</th>\n",
        "      <td>NaN</td>\n",
        "      <td>NaN</td>\n",
        "      <td>NaN</td>\n",
        "      <td>NaN</td>\n",
        "      <td>NaN</td>\n",
        "      <td>NaN</td>\n",
        "    </tr>\n",
        "  </tbody>\n",
        "</table>\n",
        "</div>"
       ],
       "metadata": {},
       "output_type": "pyout",
       "prompt_number": 91,
       "text": [
        "                        bid  bdepth  bdeptht   offer  odepth  odeptht\n",
        "time                                                                 \n",
        "2015-07-13 10:00:00  109.78     100      100  112.38     100      100\n",
        "2015-07-13 10:05:00     NaN     NaN      NaN     NaN     NaN      NaN\n",
        "2015-07-13 10:10:00  110.08     100      100  113.27     100      100\n",
        "2015-07-13 10:15:00     NaN     NaN      NaN     NaN     NaN      NaN\n",
        "2015-07-13 10:20:00     NaN     NaN      NaN     NaN     NaN      NaN"
       ]
      }
     ],
     "prompt_number": 91
    },
    {
     "cell_type": "code",
     "collapsed": false,
     "input": [
      "NKE_resam['bid'].fillna(method='ffill').plot(grid=True)\n",
      "# tag: aapl_resam\n",
      "# title: Resampled Apple stock tick data"
     ],
     "language": "python",
     "metadata": {
      "uuid": "7730056f-4ce8-4a23-853e-f5206eb86ea7"
     },
     "outputs": [
      {
       "metadata": {},
       "output_type": "pyout",
       "prompt_number": 92,
       "text": [
        "<matplotlib.axes._subplots.AxesSubplot at 0x7ff9cb9908d0>"
       ]
      },
      {
       "metadata": {},
       "output_type": "display_data",
       "png": "[encoded data removed]",
       "text": [
        "<matplotlib.figure.Figure at 0x7ff9d72871d0>"
       ]
      }
     ],
     "prompt_number": 92
    },
    {
     "cell_type": "code",
     "collapsed": false,
     "input": [
      "def reversal(x):\n",
      "    return 2 * 95 - x"
     ],
     "language": "python",
     "metadata": {
      "uuid": "d8d2f963-3909-4434-95fa-69f932b49451"
     },
     "outputs": [],
     "prompt_number": 93
    },
    {
     "cell_type": "code",
     "collapsed": false,
     "input": [
      "NKE_resam['bid'].fillna(method='ffill').apply(reversal).plot(grid=True)\n",
      "# tag: aapl_resam_apply\n",
      "# title: Resampled Apple stock tick data with function applied to it"
     ],
     "language": "python",
     "metadata": {
      "uuid": "e6d72fc4-0617-480c-84a3-56892f0e4b01"
     },
     "outputs": [
      {
       "metadata": {},
       "output_type": "pyout",
       "prompt_number": 94,
       "text": [
        "<matplotlib.axes._subplots.AxesSubplot at 0x7ff9cb780f50>"
       ]
      },
      {
       "metadata": {},
       "output_type": "display_data",
       "png": "[encoded data removed]",
       "text": [
        "<matplotlib.figure.Figure at 0x7ff9cb986450>"
       ]
      }
     ],
     "prompt_number": 94
    },
    {
     "cell_type": "code",
     "collapsed": false,
     "input": [
      "!rm ./data/*\n",
      "  # Windows: del /data/*"
     ],
     "language": "python",
     "metadata": {
      "uuid": "ac44afa5-337a-4aed-b811-1b76db21682d"
     },
     "outputs": [],
     "prompt_number": 95
    },
    {
     "cell_type": "heading",
     "level": 2,
     "metadata": {},
     "source": [
      "Conclusions"
     ]
    },
    {
     "cell_type": "heading",
     "level": 2,
     "metadata": {},
     "source": [
      "Further Reading"
     ]
    },
    {
     "cell_type": "markdown",
     "metadata": {},
     "source": [
      "<img src=\"http://hilpisch.com/tpq_logo.png\" alt=\"The Python Quants\" width=\"35%\" align=\"right\" border=\"0\"><br>\n",
      "\n",
      "<a href=\"http://www.pythonquants.com\" target=\"_blank\">www.pythonquants.com</a> | <a href=\"http://twitter.com/dyjh\" target=\"_blank\">@dyjh</a>\n",
      "\n",
      "<a href=\"mailto:analytics@pythonquants.com\">analytics@pythonquants.com</a>\n",
      "\n",
      "**Python Quant Platform** |\n",
      "<a href=\"http://oreilly.quant-platform.com\">http://oreilly.quant-platform.com</a>\n",
      "\n",
      "**Derivatives Analytics with Python** |\n",
      "<a href=\"http://www.derivatives-analytics-with-python.com\" target=\"_blank\">Derivatives Analytics @ Wiley Finance</a>\n",
      "\n",
      "**Python for Finance** |\n",
      "<a href=\"http://shop.oreilly.com/product/0636920032441.do\" target=\"_blank\">Python for Finance @ O'Reilly</a>"
     ]
    }
   ],
   "metadata": {}
  }
 ]
}